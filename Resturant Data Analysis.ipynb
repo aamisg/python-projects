{
  "metadata": {
    "kernelspec": {
      "name": "python",
      "display_name": "Python (Pyodide)",
      "language": "python"
    },
    "language_info": {
      "codemirror_mode": {
        "name": "python",
        "version": 3
      },
      "file_extension": ".py",
      "mimetype": "text/x-python",
      "name": "python",
      "nbconvert_exporter": "python",
      "pygments_lexer": "ipython3",
      "version": "3.8"
    }
  },
  "nbformat_minor": 5,
  "nbformat": 4,
  "cells": [
    {
      "id": "43f26fa0-44d4-4e8b-a03c-987352d93b5a",
      "cell_type": "code",
      "source": "import numpy as np\nimport pandas as pd\nimport matplotlib.pyplot as plt",
      "metadata": {
        "trusted": true
      },
      "outputs": [],
      "execution_count": 26
    },
    {
      "id": "4170d637-e806-4c93-9988-9ccfad844510",
      "cell_type": "code",
      "source": "df = pd.read_csv(\"9. Sales-Data-Analysis.csv\")",
      "metadata": {
        "trusted": true
      },
      "outputs": [],
      "execution_count": 2
    },
    {
      "id": "2b8cc861-46ef-4b1a-9f10-0c4c976f61e2",
      "cell_type": "code",
      "source": "df",
      "metadata": {
        "trusted": true
      },
      "outputs": [
        {
          "execution_count": 3,
          "output_type": "execute_result",
          "data": {
            "text/plain": "     Order ID        Date             Product  Price  Quantity Purchase Type  \\\n0       10452  07-11-2022               Fries   3.49    573.07       Online    \n1       10453  07-11-2022           Beverages   2.95    745.76       Online    \n2       10454  07-11-2022       Sides & Other   4.99    200.40     In-store    \n3       10455  08-11-2022             Burgers  12.99    569.67     In-store    \n4       10456  08-11-2022  Chicken Sandwiches   9.95    201.01     In-store    \n..        ...         ...                 ...    ...       ...           ...   \n249     10709  28-12-2022       Sides & Other   4.99    200.40   Drive-thru    \n250     10710  29-12-2022             Burgers  12.99    754.43   Drive-thru    \n251     10711  29-12-2022  Chicken Sandwiches   9.95    281.41   Drive-thru    \n252     10712  29-12-2022               Fries   3.49    630.37   Drive-thru    \n253     10713  29-12-2022           Beverages   2.95    677.97   Drive-thru    \n\n    Payment Method             Manager    City  \n0        Gift Card    Tom      Jackson  London  \n1        Gift Card         Pablo Perez  Madrid  \n2        Gift Card       Joao    Silva  Lisbon  \n3      Credit Card       Walter Muller  Berlin  \n4      Credit Card       Walter Muller  Berlin  \n..             ...                 ...     ...  \n249      Gift Card       Walter Muller  Berlin  \n250      Gift Card       Walter Muller  Berlin  \n251      Gift Card       Walter Muller  Berlin  \n252      Gift Card       Walter Muller  Berlin  \n253      Gift Card       Walter Muller  Berlin  \n\n[254 rows x 9 columns]",
            "text/html": "<div>\n<style scoped>\n    .dataframe tbody tr th:only-of-type {\n        vertical-align: middle;\n    }\n\n    .dataframe tbody tr th {\n        vertical-align: top;\n    }\n\n    .dataframe thead th {\n        text-align: right;\n    }\n</style>\n<table border=\"1\" class=\"dataframe\">\n  <thead>\n    <tr style=\"text-align: right;\">\n      <th></th>\n      <th>Order ID</th>\n      <th>Date</th>\n      <th>Product</th>\n      <th>Price</th>\n      <th>Quantity</th>\n      <th>Purchase Type</th>\n      <th>Payment Method</th>\n      <th>Manager</th>\n      <th>City</th>\n    </tr>\n  </thead>\n  <tbody>\n    <tr>\n      <th>0</th>\n      <td>10452</td>\n      <td>07-11-2022</td>\n      <td>Fries</td>\n      <td>3.49</td>\n      <td>573.07</td>\n      <td>Online</td>\n      <td>Gift Card</td>\n      <td>Tom      Jackson</td>\n      <td>London</td>\n    </tr>\n    <tr>\n      <th>1</th>\n      <td>10453</td>\n      <td>07-11-2022</td>\n      <td>Beverages</td>\n      <td>2.95</td>\n      <td>745.76</td>\n      <td>Online</td>\n      <td>Gift Card</td>\n      <td>Pablo Perez</td>\n      <td>Madrid</td>\n    </tr>\n    <tr>\n      <th>2</th>\n      <td>10454</td>\n      <td>07-11-2022</td>\n      <td>Sides &amp; Other</td>\n      <td>4.99</td>\n      <td>200.40</td>\n      <td>In-store</td>\n      <td>Gift Card</td>\n      <td>Joao    Silva</td>\n      <td>Lisbon</td>\n    </tr>\n    <tr>\n      <th>3</th>\n      <td>10455</td>\n      <td>08-11-2022</td>\n      <td>Burgers</td>\n      <td>12.99</td>\n      <td>569.67</td>\n      <td>In-store</td>\n      <td>Credit Card</td>\n      <td>Walter Muller</td>\n      <td>Berlin</td>\n    </tr>\n    <tr>\n      <th>4</th>\n      <td>10456</td>\n      <td>08-11-2022</td>\n      <td>Chicken Sandwiches</td>\n      <td>9.95</td>\n      <td>201.01</td>\n      <td>In-store</td>\n      <td>Credit Card</td>\n      <td>Walter Muller</td>\n      <td>Berlin</td>\n    </tr>\n    <tr>\n      <th>...</th>\n      <td>...</td>\n      <td>...</td>\n      <td>...</td>\n      <td>...</td>\n      <td>...</td>\n      <td>...</td>\n      <td>...</td>\n      <td>...</td>\n      <td>...</td>\n    </tr>\n    <tr>\n      <th>249</th>\n      <td>10709</td>\n      <td>28-12-2022</td>\n      <td>Sides &amp; Other</td>\n      <td>4.99</td>\n      <td>200.40</td>\n      <td>Drive-thru</td>\n      <td>Gift Card</td>\n      <td>Walter Muller</td>\n      <td>Berlin</td>\n    </tr>\n    <tr>\n      <th>250</th>\n      <td>10710</td>\n      <td>29-12-2022</td>\n      <td>Burgers</td>\n      <td>12.99</td>\n      <td>754.43</td>\n      <td>Drive-thru</td>\n      <td>Gift Card</td>\n      <td>Walter Muller</td>\n      <td>Berlin</td>\n    </tr>\n    <tr>\n      <th>251</th>\n      <td>10711</td>\n      <td>29-12-2022</td>\n      <td>Chicken Sandwiches</td>\n      <td>9.95</td>\n      <td>281.41</td>\n      <td>Drive-thru</td>\n      <td>Gift Card</td>\n      <td>Walter Muller</td>\n      <td>Berlin</td>\n    </tr>\n    <tr>\n      <th>252</th>\n      <td>10712</td>\n      <td>29-12-2022</td>\n      <td>Fries</td>\n      <td>3.49</td>\n      <td>630.37</td>\n      <td>Drive-thru</td>\n      <td>Gift Card</td>\n      <td>Walter Muller</td>\n      <td>Berlin</td>\n    </tr>\n    <tr>\n      <th>253</th>\n      <td>10713</td>\n      <td>29-12-2022</td>\n      <td>Beverages</td>\n      <td>2.95</td>\n      <td>677.97</td>\n      <td>Drive-thru</td>\n      <td>Gift Card</td>\n      <td>Walter Muller</td>\n      <td>Berlin</td>\n    </tr>\n  </tbody>\n</table>\n<p>254 rows × 9 columns</p>\n</div>"
          },
          "metadata": {}
        }
      ],
      "execution_count": 3
    },
    {
      "id": "e7b19855-6375-41db-a8f1-9a2ceba6cc3b",
      "cell_type": "code",
      "source": "df",
      "metadata": {
        "trusted": true
      },
      "outputs": [
        {
          "execution_count": 27,
          "output_type": "execute_result",
          "data": {
            "text/plain": "     Order ID        Date             Product  Price  Quantity Purchase Type  \\\n0       10452  07-11-2022               Fries   3.49    573.07       Online    \n1       10453  07-11-2022           Beverages   2.95    745.76       Online    \n2       10454  07-11-2022       Sides & Other   4.99    200.40     In-store    \n3       10455  08-11-2022             Burgers  12.99    569.67     In-store    \n4       10456  08-11-2022  Chicken Sandwiches   9.95    201.01     In-store    \n..        ...         ...                 ...    ...       ...           ...   \n249     10709  28-12-2022       Sides & Other   4.99    200.40   Drive-thru    \n250     10710  29-12-2022             Burgers  12.99    754.43   Drive-thru    \n251     10711  29-12-2022  Chicken Sandwiches   9.95    281.41   Drive-thru    \n252     10712  29-12-2022               Fries   3.49    630.37   Drive-thru    \n253     10713  29-12-2022           Beverages   2.95    677.97   Drive-thru    \n\n    Payment Method           Manager    City  \n0        Gift Card  Tom      Jackson  London  \n1        Gift Card       Pablo Perez  Madrid  \n2        Gift Card     Joao    Silva  Lisbon  \n3      Credit Card     Walter Muller  Berlin  \n4      Credit Card     Walter Muller  Berlin  \n..             ...               ...     ...  \n249      Gift Card     Walter Muller  Berlin  \n250      Gift Card     Walter Muller  Berlin  \n251      Gift Card     Walter Muller  Berlin  \n252      Gift Card     Walter Muller  Berlin  \n253      Gift Card     Walter Muller  Berlin  \n\n[254 rows x 9 columns]",
            "text/html": "<div>\n<style scoped>\n    .dataframe tbody tr th:only-of-type {\n        vertical-align: middle;\n    }\n\n    .dataframe tbody tr th {\n        vertical-align: top;\n    }\n\n    .dataframe thead th {\n        text-align: right;\n    }\n</style>\n<table border=\"1\" class=\"dataframe\">\n  <thead>\n    <tr style=\"text-align: right;\">\n      <th></th>\n      <th>Order ID</th>\n      <th>Date</th>\n      <th>Product</th>\n      <th>Price</th>\n      <th>Quantity</th>\n      <th>Purchase Type</th>\n      <th>Payment Method</th>\n      <th>Manager</th>\n      <th>City</th>\n    </tr>\n  </thead>\n  <tbody>\n    <tr>\n      <th>0</th>\n      <td>10452</td>\n      <td>07-11-2022</td>\n      <td>Fries</td>\n      <td>3.49</td>\n      <td>573.07</td>\n      <td>Online</td>\n      <td>Gift Card</td>\n      <td>Tom      Jackson</td>\n      <td>London</td>\n    </tr>\n    <tr>\n      <th>1</th>\n      <td>10453</td>\n      <td>07-11-2022</td>\n      <td>Beverages</td>\n      <td>2.95</td>\n      <td>745.76</td>\n      <td>Online</td>\n      <td>Gift Card</td>\n      <td>Pablo Perez</td>\n      <td>Madrid</td>\n    </tr>\n    <tr>\n      <th>2</th>\n      <td>10454</td>\n      <td>07-11-2022</td>\n      <td>Sides &amp; Other</td>\n      <td>4.99</td>\n      <td>200.40</td>\n      <td>In-store</td>\n      <td>Gift Card</td>\n      <td>Joao    Silva</td>\n      <td>Lisbon</td>\n    </tr>\n    <tr>\n      <th>3</th>\n      <td>10455</td>\n      <td>08-11-2022</td>\n      <td>Burgers</td>\n      <td>12.99</td>\n      <td>569.67</td>\n      <td>In-store</td>\n      <td>Credit Card</td>\n      <td>Walter Muller</td>\n      <td>Berlin</td>\n    </tr>\n    <tr>\n      <th>4</th>\n      <td>10456</td>\n      <td>08-11-2022</td>\n      <td>Chicken Sandwiches</td>\n      <td>9.95</td>\n      <td>201.01</td>\n      <td>In-store</td>\n      <td>Credit Card</td>\n      <td>Walter Muller</td>\n      <td>Berlin</td>\n    </tr>\n    <tr>\n      <th>...</th>\n      <td>...</td>\n      <td>...</td>\n      <td>...</td>\n      <td>...</td>\n      <td>...</td>\n      <td>...</td>\n      <td>...</td>\n      <td>...</td>\n      <td>...</td>\n    </tr>\n    <tr>\n      <th>249</th>\n      <td>10709</td>\n      <td>28-12-2022</td>\n      <td>Sides &amp; Other</td>\n      <td>4.99</td>\n      <td>200.40</td>\n      <td>Drive-thru</td>\n      <td>Gift Card</td>\n      <td>Walter Muller</td>\n      <td>Berlin</td>\n    </tr>\n    <tr>\n      <th>250</th>\n      <td>10710</td>\n      <td>29-12-2022</td>\n      <td>Burgers</td>\n      <td>12.99</td>\n      <td>754.43</td>\n      <td>Drive-thru</td>\n      <td>Gift Card</td>\n      <td>Walter Muller</td>\n      <td>Berlin</td>\n    </tr>\n    <tr>\n      <th>251</th>\n      <td>10711</td>\n      <td>29-12-2022</td>\n      <td>Chicken Sandwiches</td>\n      <td>9.95</td>\n      <td>281.41</td>\n      <td>Drive-thru</td>\n      <td>Gift Card</td>\n      <td>Walter Muller</td>\n      <td>Berlin</td>\n    </tr>\n    <tr>\n      <th>252</th>\n      <td>10712</td>\n      <td>29-12-2022</td>\n      <td>Fries</td>\n      <td>3.49</td>\n      <td>630.37</td>\n      <td>Drive-thru</td>\n      <td>Gift Card</td>\n      <td>Walter Muller</td>\n      <td>Berlin</td>\n    </tr>\n    <tr>\n      <th>253</th>\n      <td>10713</td>\n      <td>29-12-2022</td>\n      <td>Beverages</td>\n      <td>2.95</td>\n      <td>677.97</td>\n      <td>Drive-thru</td>\n      <td>Gift Card</td>\n      <td>Walter Muller</td>\n      <td>Berlin</td>\n    </tr>\n  </tbody>\n</table>\n<p>254 rows × 9 columns</p>\n</div>"
          },
          "metadata": {}
        }
      ],
      "execution_count": 27
    },
    {
      "id": "3a665097-eb80-4895-9385-6a1990713494",
      "cell_type": "code",
      "source": "df.info()",
      "metadata": {
        "trusted": true
      },
      "outputs": [
        {
          "name": "stdout",
          "output_type": "stream",
          "text": "<class 'pandas.core.frame.DataFrame'>\nRangeIndex: 254 entries, 0 to 253\nData columns (total 9 columns):\n #   Column          Non-Null Count  Dtype  \n---  ------          --------------  -----  \n 0   Order ID        254 non-null    int64  \n 1   Date            254 non-null    object \n 2   Product         254 non-null    object \n 3   Price           254 non-null    float64\n 4   Quantity        254 non-null    float64\n 5   Purchase Type   254 non-null    object \n 6   Payment Method  254 non-null    object \n 7   Manager         254 non-null    object \n 8   City            254 non-null    object \ndtypes: float64(2), int64(1), object(6)\nmemory usage: 12.0+ KB\n"
        }
      ],
      "execution_count": 28
    },
    {
      "id": "f1921e14-1eb9-417b-ba75-5201178b0c47",
      "cell_type": "code",
      "source": "df.head()",
      "metadata": {
        "trusted": true
      },
      "outputs": [
        {
          "execution_count": 34,
          "output_type": "execute_result",
          "data": {
            "text/plain": "   Order ID        Date             Product  Price  Quantity Purchase Type  \\\n0     10452  07-11-2022               Fries   3.49    573.07       Online    \n1     10453  07-11-2022           Beverages   2.95    745.76       Online    \n2     10454  07-11-2022       Sides & Other   4.99    200.40     In-store    \n3     10455  08-11-2022             Burgers  12.99    569.67     In-store    \n4     10456  08-11-2022  Chicken Sandwiches   9.95    201.01     In-store    \n\n  Payment Method           Manager    City  \n0      Gift Card  Tom      Jackson  London  \n1      Gift Card       Pablo Perez  Madrid  \n2      Gift Card     Joao    Silva  Lisbon  \n3    Credit Card     Walter Muller  Berlin  \n4    Credit Card     Walter Muller  Berlin  ",
            "text/html": "<div>\n<style scoped>\n    .dataframe tbody tr th:only-of-type {\n        vertical-align: middle;\n    }\n\n    .dataframe tbody tr th {\n        vertical-align: top;\n    }\n\n    .dataframe thead th {\n        text-align: right;\n    }\n</style>\n<table border=\"1\" class=\"dataframe\">\n  <thead>\n    <tr style=\"text-align: right;\">\n      <th></th>\n      <th>Order ID</th>\n      <th>Date</th>\n      <th>Product</th>\n      <th>Price</th>\n      <th>Quantity</th>\n      <th>Purchase Type</th>\n      <th>Payment Method</th>\n      <th>Manager</th>\n      <th>City</th>\n    </tr>\n  </thead>\n  <tbody>\n    <tr>\n      <th>0</th>\n      <td>10452</td>\n      <td>07-11-2022</td>\n      <td>Fries</td>\n      <td>3.49</td>\n      <td>573.07</td>\n      <td>Online</td>\n      <td>Gift Card</td>\n      <td>Tom      Jackson</td>\n      <td>London</td>\n    </tr>\n    <tr>\n      <th>1</th>\n      <td>10453</td>\n      <td>07-11-2022</td>\n      <td>Beverages</td>\n      <td>2.95</td>\n      <td>745.76</td>\n      <td>Online</td>\n      <td>Gift Card</td>\n      <td>Pablo Perez</td>\n      <td>Madrid</td>\n    </tr>\n    <tr>\n      <th>2</th>\n      <td>10454</td>\n      <td>07-11-2022</td>\n      <td>Sides &amp; Other</td>\n      <td>4.99</td>\n      <td>200.40</td>\n      <td>In-store</td>\n      <td>Gift Card</td>\n      <td>Joao    Silva</td>\n      <td>Lisbon</td>\n    </tr>\n    <tr>\n      <th>3</th>\n      <td>10455</td>\n      <td>08-11-2022</td>\n      <td>Burgers</td>\n      <td>12.99</td>\n      <td>569.67</td>\n      <td>In-store</td>\n      <td>Credit Card</td>\n      <td>Walter Muller</td>\n      <td>Berlin</td>\n    </tr>\n    <tr>\n      <th>4</th>\n      <td>10456</td>\n      <td>08-11-2022</td>\n      <td>Chicken Sandwiches</td>\n      <td>9.95</td>\n      <td>201.01</td>\n      <td>In-store</td>\n      <td>Credit Card</td>\n      <td>Walter Muller</td>\n      <td>Berlin</td>\n    </tr>\n  </tbody>\n</table>\n</div>"
          },
          "metadata": {}
        }
      ],
      "execution_count": 34
    },
    {
      "id": "6d9bd110-4dcc-4fdb-b3b1-117320c952b4",
      "cell_type": "code",
      "source": "df.Manager",
      "metadata": {
        "trusted": true
      },
      "outputs": [
        {
          "execution_count": 35,
          "output_type": "execute_result",
          "data": {
            "text/plain": "0      Tom      Jackson\n1           Pablo Perez\n2         Joao    Silva\n3         Walter Muller\n4         Walter Muller\n             ...       \n249       Walter Muller\n250       Walter Muller\n251       Walter Muller\n252       Walter Muller\n253       Walter Muller\nName: Manager, Length: 254, dtype: object"
          },
          "metadata": {}
        }
      ],
      "execution_count": 35
    },
    {
      "id": "0270d52f-aef0-4e83-8ee3-0d10dee73e51",
      "cell_type": "code",
      "source": "df.Manager.unique()",
      "metadata": {
        "trusted": true
      },
      "outputs": [
        {
          "execution_count": 31,
          "output_type": "execute_result",
          "data": {
            "text/plain": "array(['Tom      Jackson', 'Pablo Perez', 'Joao    Silva',\n       'Walter Muller', 'Remy    Monet', 'Remy Monet', 'Remy     Monet',\n       'Pablo   Perez', 'Pablo  Perez', 'Pablo    Perez', 'Joao Silva',\n       'Tom Jackson'], dtype=object)"
          },
          "metadata": {}
        }
      ],
      "execution_count": 31
    },
    {
      "id": "628eb4f9-392b-4ebf-a9d4-c1339345287e",
      "cell_type": "code",
      "source": "df.Manager.nunique()",
      "metadata": {
        "trusted": true
      },
      "outputs": [
        {
          "execution_count": 32,
          "output_type": "execute_result",
          "data": {
            "text/plain": "12"
          },
          "metadata": {}
        }
      ],
      "execution_count": 32
    },
    {
      "id": "7b6b5d19-fa8d-4730-a8c3-60826f7962c5",
      "cell_type": "code",
      "source": "df['Manager'] = df['Manager'].str.strip().str.replace(r'/s+', ' ', regex =True)",
      "metadata": {
        "trusted": true
      },
      "outputs": [],
      "execution_count": 36
    },
    {
      "id": "ad716c73-1ebd-4f48-a672-d6918d2bd417",
      "cell_type": "code",
      "source": "df.head(20)",
      "metadata": {
        "trusted": true
      },
      "outputs": [
        {
          "execution_count": 38,
          "output_type": "execute_result",
          "data": {
            "text/plain": "    Order ID        Date             Product  Price  Quantity Purchase Type  \\\n0      10452  07-11-2022               Fries   3.49    573.07       Online    \n1      10453  07-11-2022           Beverages   2.95    745.76       Online    \n2      10454  07-11-2022       Sides & Other   4.99    200.40     In-store    \n3      10455  08-11-2022             Burgers  12.99    569.67     In-store    \n4      10456  08-11-2022  Chicken Sandwiches   9.95    201.01     In-store    \n5      10457  08-11-2022               Fries   3.49    573.07     In-store    \n6      10459  08-11-2022       Sides & Other   4.99    200.40     In-store    \n7      10460  09-11-2022             Burgers  12.99    554.27     In-store    \n8      10461  09-11-2022  Chicken Sandwiches   9.95    201.01     In-store    \n9      10462  09-11-2022               Fries   3.49    573.07     In-store    \n10     10463  09-11-2022           Beverages   2.95    677.97     In-store    \n11     10464  09-11-2022       Sides & Other   4.99    200.40     In-store    \n12     10465  10-11-2022             Burgers  12.99    554.27     In-store    \n13     10466  10-11-2022  Chicken Sandwiches   9.95    201.01     In-store    \n14     10467  10-11-2022               Fries   3.49    573.07     In-store    \n15     10468  10-11-2022           Beverages   2.95    677.97     In-store    \n16     10470  11-11-2022             Burgers  12.99    554.27     In-store    \n17     10471  11-11-2022  Chicken Sandwiches   9.95    201.01     In-store    \n18     10472  11-11-2022               Fries   3.49    630.37     In-store    \n19     10473  11-11-2022           Beverages   2.95    677.97     In-store    \n\n   Payment Method           Manager    City  \n0       Gift Card  Tom      Jackson  London  \n1       Gift Card       Pablo Perez  Madrid  \n2       Gift Card     Joao    Silva  Lisbon  \n3     Credit Card     Walter Muller  Berlin  \n4     Credit Card     Walter Muller  Berlin  \n5     Credit Card     Remy    Monet   Paris  \n6     Credit Card     Walter Muller  Berlin  \n7     Credit Card        Remy Monet   Paris  \n8     Credit Card        Remy Monet   Paris  \n9     Credit Card        Remy Monet   Paris  \n10    Credit Card        Remy Monet   Paris  \n11    Credit Card    Remy     Monet   Paris  \n12    Credit Card       Pablo Perez  Madrid  \n13    Credit Card       Pablo Perez  Madrid  \n14    Credit Card       Pablo Perez  Madrid  \n15    Credit Card       Pablo Perez  Madrid  \n16    Credit Card       Pablo Perez  Madrid  \n17    Credit Card       Pablo Perez  Madrid  \n18    Credit Card     Pablo   Perez  Madrid  \n19    Credit Card       Pablo Perez  Madrid  ",
            "text/html": "<div>\n<style scoped>\n    .dataframe tbody tr th:only-of-type {\n        vertical-align: middle;\n    }\n\n    .dataframe tbody tr th {\n        vertical-align: top;\n    }\n\n    .dataframe thead th {\n        text-align: right;\n    }\n</style>\n<table border=\"1\" class=\"dataframe\">\n  <thead>\n    <tr style=\"text-align: right;\">\n      <th></th>\n      <th>Order ID</th>\n      <th>Date</th>\n      <th>Product</th>\n      <th>Price</th>\n      <th>Quantity</th>\n      <th>Purchase Type</th>\n      <th>Payment Method</th>\n      <th>Manager</th>\n      <th>City</th>\n    </tr>\n  </thead>\n  <tbody>\n    <tr>\n      <th>0</th>\n      <td>10452</td>\n      <td>07-11-2022</td>\n      <td>Fries</td>\n      <td>3.49</td>\n      <td>573.07</td>\n      <td>Online</td>\n      <td>Gift Card</td>\n      <td>Tom      Jackson</td>\n      <td>London</td>\n    </tr>\n    <tr>\n      <th>1</th>\n      <td>10453</td>\n      <td>07-11-2022</td>\n      <td>Beverages</td>\n      <td>2.95</td>\n      <td>745.76</td>\n      <td>Online</td>\n      <td>Gift Card</td>\n      <td>Pablo Perez</td>\n      <td>Madrid</td>\n    </tr>\n    <tr>\n      <th>2</th>\n      <td>10454</td>\n      <td>07-11-2022</td>\n      <td>Sides &amp; Other</td>\n      <td>4.99</td>\n      <td>200.40</td>\n      <td>In-store</td>\n      <td>Gift Card</td>\n      <td>Joao    Silva</td>\n      <td>Lisbon</td>\n    </tr>\n    <tr>\n      <th>3</th>\n      <td>10455</td>\n      <td>08-11-2022</td>\n      <td>Burgers</td>\n      <td>12.99</td>\n      <td>569.67</td>\n      <td>In-store</td>\n      <td>Credit Card</td>\n      <td>Walter Muller</td>\n      <td>Berlin</td>\n    </tr>\n    <tr>\n      <th>4</th>\n      <td>10456</td>\n      <td>08-11-2022</td>\n      <td>Chicken Sandwiches</td>\n      <td>9.95</td>\n      <td>201.01</td>\n      <td>In-store</td>\n      <td>Credit Card</td>\n      <td>Walter Muller</td>\n      <td>Berlin</td>\n    </tr>\n    <tr>\n      <th>5</th>\n      <td>10457</td>\n      <td>08-11-2022</td>\n      <td>Fries</td>\n      <td>3.49</td>\n      <td>573.07</td>\n      <td>In-store</td>\n      <td>Credit Card</td>\n      <td>Remy    Monet</td>\n      <td>Paris</td>\n    </tr>\n    <tr>\n      <th>6</th>\n      <td>10459</td>\n      <td>08-11-2022</td>\n      <td>Sides &amp; Other</td>\n      <td>4.99</td>\n      <td>200.40</td>\n      <td>In-store</td>\n      <td>Credit Card</td>\n      <td>Walter Muller</td>\n      <td>Berlin</td>\n    </tr>\n    <tr>\n      <th>7</th>\n      <td>10460</td>\n      <td>09-11-2022</td>\n      <td>Burgers</td>\n      <td>12.99</td>\n      <td>554.27</td>\n      <td>In-store</td>\n      <td>Credit Card</td>\n      <td>Remy Monet</td>\n      <td>Paris</td>\n    </tr>\n    <tr>\n      <th>8</th>\n      <td>10461</td>\n      <td>09-11-2022</td>\n      <td>Chicken Sandwiches</td>\n      <td>9.95</td>\n      <td>201.01</td>\n      <td>In-store</td>\n      <td>Credit Card</td>\n      <td>Remy Monet</td>\n      <td>Paris</td>\n    </tr>\n    <tr>\n      <th>9</th>\n      <td>10462</td>\n      <td>09-11-2022</td>\n      <td>Fries</td>\n      <td>3.49</td>\n      <td>573.07</td>\n      <td>In-store</td>\n      <td>Credit Card</td>\n      <td>Remy Monet</td>\n      <td>Paris</td>\n    </tr>\n    <tr>\n      <th>10</th>\n      <td>10463</td>\n      <td>09-11-2022</td>\n      <td>Beverages</td>\n      <td>2.95</td>\n      <td>677.97</td>\n      <td>In-store</td>\n      <td>Credit Card</td>\n      <td>Remy Monet</td>\n      <td>Paris</td>\n    </tr>\n    <tr>\n      <th>11</th>\n      <td>10464</td>\n      <td>09-11-2022</td>\n      <td>Sides &amp; Other</td>\n      <td>4.99</td>\n      <td>200.40</td>\n      <td>In-store</td>\n      <td>Credit Card</td>\n      <td>Remy     Monet</td>\n      <td>Paris</td>\n    </tr>\n    <tr>\n      <th>12</th>\n      <td>10465</td>\n      <td>10-11-2022</td>\n      <td>Burgers</td>\n      <td>12.99</td>\n      <td>554.27</td>\n      <td>In-store</td>\n      <td>Credit Card</td>\n      <td>Pablo Perez</td>\n      <td>Madrid</td>\n    </tr>\n    <tr>\n      <th>13</th>\n      <td>10466</td>\n      <td>10-11-2022</td>\n      <td>Chicken Sandwiches</td>\n      <td>9.95</td>\n      <td>201.01</td>\n      <td>In-store</td>\n      <td>Credit Card</td>\n      <td>Pablo Perez</td>\n      <td>Madrid</td>\n    </tr>\n    <tr>\n      <th>14</th>\n      <td>10467</td>\n      <td>10-11-2022</td>\n      <td>Fries</td>\n      <td>3.49</td>\n      <td>573.07</td>\n      <td>In-store</td>\n      <td>Credit Card</td>\n      <td>Pablo Perez</td>\n      <td>Madrid</td>\n    </tr>\n    <tr>\n      <th>15</th>\n      <td>10468</td>\n      <td>10-11-2022</td>\n      <td>Beverages</td>\n      <td>2.95</td>\n      <td>677.97</td>\n      <td>In-store</td>\n      <td>Credit Card</td>\n      <td>Pablo Perez</td>\n      <td>Madrid</td>\n    </tr>\n    <tr>\n      <th>16</th>\n      <td>10470</td>\n      <td>11-11-2022</td>\n      <td>Burgers</td>\n      <td>12.99</td>\n      <td>554.27</td>\n      <td>In-store</td>\n      <td>Credit Card</td>\n      <td>Pablo Perez</td>\n      <td>Madrid</td>\n    </tr>\n    <tr>\n      <th>17</th>\n      <td>10471</td>\n      <td>11-11-2022</td>\n      <td>Chicken Sandwiches</td>\n      <td>9.95</td>\n      <td>201.01</td>\n      <td>In-store</td>\n      <td>Credit Card</td>\n      <td>Pablo Perez</td>\n      <td>Madrid</td>\n    </tr>\n    <tr>\n      <th>18</th>\n      <td>10472</td>\n      <td>11-11-2022</td>\n      <td>Fries</td>\n      <td>3.49</td>\n      <td>630.37</td>\n      <td>In-store</td>\n      <td>Credit Card</td>\n      <td>Pablo   Perez</td>\n      <td>Madrid</td>\n    </tr>\n    <tr>\n      <th>19</th>\n      <td>10473</td>\n      <td>11-11-2022</td>\n      <td>Beverages</td>\n      <td>2.95</td>\n      <td>677.97</td>\n      <td>In-store</td>\n      <td>Credit Card</td>\n      <td>Pablo Perez</td>\n      <td>Madrid</td>\n    </tr>\n  </tbody>\n</table>\n</div>"
          },
          "metadata": {}
        }
      ],
      "execution_count": 38
    },
    {
      "id": "e08440cf-a526-4e38-a1d2-0626c1e96d2b",
      "cell_type": "code",
      "source": "df['Manager'].unique()",
      "metadata": {
        "trusted": true
      },
      "outputs": [
        {
          "execution_count": 39,
          "output_type": "execute_result",
          "data": {
            "text/plain": "array(['Tom      Jackson', 'Pablo Perez', 'Joao    Silva',\n       'Walter Muller', 'Remy    Monet', 'Remy Monet', 'Remy     Monet',\n       'Pablo   Perez', 'Pablo  Perez', 'Pablo    Perez', 'Joao Silva',\n       'Tom Jackson'], dtype=object)"
          },
          "metadata": {}
        }
      ],
      "execution_count": 39
    },
    {
      "id": "e048e13f-4c1f-4842-8e9c-16505c7f8fd9",
      "cell_type": "code",
      "source": "df['Manager'].nunique()",
      "metadata": {
        "trusted": true
      },
      "outputs": [
        {
          "execution_count": 40,
          "output_type": "execute_result",
          "data": {
            "text/plain": "12"
          },
          "metadata": {}
        }
      ],
      "execution_count": 40
    },
    {
      "id": "be9aa9ae-7eb7-4e75-b7d7-6e20c8c17c85",
      "cell_type": "code",
      "source": "df",
      "metadata": {
        "trusted": true
      },
      "outputs": [
        {
          "execution_count": 41,
          "output_type": "execute_result",
          "data": {
            "text/plain": "     Order ID        Date             Product  Price  Quantity Purchase Type  \\\n0       10452  07-11-2022               Fries   3.49    573.07       Online    \n1       10453  07-11-2022           Beverages   2.95    745.76       Online    \n2       10454  07-11-2022       Sides & Other   4.99    200.40     In-store    \n3       10455  08-11-2022             Burgers  12.99    569.67     In-store    \n4       10456  08-11-2022  Chicken Sandwiches   9.95    201.01     In-store    \n..        ...         ...                 ...    ...       ...           ...   \n249     10709  28-12-2022       Sides & Other   4.99    200.40   Drive-thru    \n250     10710  29-12-2022             Burgers  12.99    754.43   Drive-thru    \n251     10711  29-12-2022  Chicken Sandwiches   9.95    281.41   Drive-thru    \n252     10712  29-12-2022               Fries   3.49    630.37   Drive-thru    \n253     10713  29-12-2022           Beverages   2.95    677.97   Drive-thru    \n\n    Payment Method           Manager    City  \n0        Gift Card  Tom      Jackson  London  \n1        Gift Card       Pablo Perez  Madrid  \n2        Gift Card     Joao    Silva  Lisbon  \n3      Credit Card     Walter Muller  Berlin  \n4      Credit Card     Walter Muller  Berlin  \n..             ...               ...     ...  \n249      Gift Card     Walter Muller  Berlin  \n250      Gift Card     Walter Muller  Berlin  \n251      Gift Card     Walter Muller  Berlin  \n252      Gift Card     Walter Muller  Berlin  \n253      Gift Card     Walter Muller  Berlin  \n\n[254 rows x 9 columns]",
            "text/html": "<div>\n<style scoped>\n    .dataframe tbody tr th:only-of-type {\n        vertical-align: middle;\n    }\n\n    .dataframe tbody tr th {\n        vertical-align: top;\n    }\n\n    .dataframe thead th {\n        text-align: right;\n    }\n</style>\n<table border=\"1\" class=\"dataframe\">\n  <thead>\n    <tr style=\"text-align: right;\">\n      <th></th>\n      <th>Order ID</th>\n      <th>Date</th>\n      <th>Product</th>\n      <th>Price</th>\n      <th>Quantity</th>\n      <th>Purchase Type</th>\n      <th>Payment Method</th>\n      <th>Manager</th>\n      <th>City</th>\n    </tr>\n  </thead>\n  <tbody>\n    <tr>\n      <th>0</th>\n      <td>10452</td>\n      <td>07-11-2022</td>\n      <td>Fries</td>\n      <td>3.49</td>\n      <td>573.07</td>\n      <td>Online</td>\n      <td>Gift Card</td>\n      <td>Tom      Jackson</td>\n      <td>London</td>\n    </tr>\n    <tr>\n      <th>1</th>\n      <td>10453</td>\n      <td>07-11-2022</td>\n      <td>Beverages</td>\n      <td>2.95</td>\n      <td>745.76</td>\n      <td>Online</td>\n      <td>Gift Card</td>\n      <td>Pablo Perez</td>\n      <td>Madrid</td>\n    </tr>\n    <tr>\n      <th>2</th>\n      <td>10454</td>\n      <td>07-11-2022</td>\n      <td>Sides &amp; Other</td>\n      <td>4.99</td>\n      <td>200.40</td>\n      <td>In-store</td>\n      <td>Gift Card</td>\n      <td>Joao    Silva</td>\n      <td>Lisbon</td>\n    </tr>\n    <tr>\n      <th>3</th>\n      <td>10455</td>\n      <td>08-11-2022</td>\n      <td>Burgers</td>\n      <td>12.99</td>\n      <td>569.67</td>\n      <td>In-store</td>\n      <td>Credit Card</td>\n      <td>Walter Muller</td>\n      <td>Berlin</td>\n    </tr>\n    <tr>\n      <th>4</th>\n      <td>10456</td>\n      <td>08-11-2022</td>\n      <td>Chicken Sandwiches</td>\n      <td>9.95</td>\n      <td>201.01</td>\n      <td>In-store</td>\n      <td>Credit Card</td>\n      <td>Walter Muller</td>\n      <td>Berlin</td>\n    </tr>\n    <tr>\n      <th>...</th>\n      <td>...</td>\n      <td>...</td>\n      <td>...</td>\n      <td>...</td>\n      <td>...</td>\n      <td>...</td>\n      <td>...</td>\n      <td>...</td>\n      <td>...</td>\n    </tr>\n    <tr>\n      <th>249</th>\n      <td>10709</td>\n      <td>28-12-2022</td>\n      <td>Sides &amp; Other</td>\n      <td>4.99</td>\n      <td>200.40</td>\n      <td>Drive-thru</td>\n      <td>Gift Card</td>\n      <td>Walter Muller</td>\n      <td>Berlin</td>\n    </tr>\n    <tr>\n      <th>250</th>\n      <td>10710</td>\n      <td>29-12-2022</td>\n      <td>Burgers</td>\n      <td>12.99</td>\n      <td>754.43</td>\n      <td>Drive-thru</td>\n      <td>Gift Card</td>\n      <td>Walter Muller</td>\n      <td>Berlin</td>\n    </tr>\n    <tr>\n      <th>251</th>\n      <td>10711</td>\n      <td>29-12-2022</td>\n      <td>Chicken Sandwiches</td>\n      <td>9.95</td>\n      <td>281.41</td>\n      <td>Drive-thru</td>\n      <td>Gift Card</td>\n      <td>Walter Muller</td>\n      <td>Berlin</td>\n    </tr>\n    <tr>\n      <th>252</th>\n      <td>10712</td>\n      <td>29-12-2022</td>\n      <td>Fries</td>\n      <td>3.49</td>\n      <td>630.37</td>\n      <td>Drive-thru</td>\n      <td>Gift Card</td>\n      <td>Walter Muller</td>\n      <td>Berlin</td>\n    </tr>\n    <tr>\n      <th>253</th>\n      <td>10713</td>\n      <td>29-12-2022</td>\n      <td>Beverages</td>\n      <td>2.95</td>\n      <td>677.97</td>\n      <td>Drive-thru</td>\n      <td>Gift Card</td>\n      <td>Walter Muller</td>\n      <td>Berlin</td>\n    </tr>\n  </tbody>\n</table>\n<p>254 rows × 9 columns</p>\n</div>"
          },
          "metadata": {}
        }
      ],
      "execution_count": 41
    },
    {
      "id": "2839b2de-f562-4a2c-a228-c453bec1ddc0",
      "cell_type": "code",
      "source": "df.info()",
      "metadata": {
        "trusted": true
      },
      "outputs": [
        {
          "name": "stdout",
          "output_type": "stream",
          "text": "<class 'pandas.core.frame.DataFrame'>\nRangeIndex: 254 entries, 0 to 253\nData columns (total 9 columns):\n #   Column          Non-Null Count  Dtype  \n---  ------          --------------  -----  \n 0   Order ID        254 non-null    int64  \n 1   Date            254 non-null    object \n 2   Product         254 non-null    object \n 3   Price           254 non-null    float64\n 4   Quantity        254 non-null    float64\n 5   Purchase Type   254 non-null    object \n 6   Payment Method  254 non-null    object \n 7   Manager         254 non-null    object \n 8   City            254 non-null    object \ndtypes: float64(2), int64(1), object(6)\nmemory usage: 12.0+ KB\n"
        }
      ],
      "execution_count": 42
    },
    {
      "id": "5227bce1-634e-4b9b-8bf7-bfae09d1961d",
      "cell_type": "code",
      "source": "df.Quantity = df.Quantity.astype(float)",
      "metadata": {
        "trusted": true
      },
      "outputs": [],
      "execution_count": 44
    },
    {
      "id": "74c2ab6c-bfcb-480e-9c57-ffbcfd5bed1c",
      "cell_type": "code",
      "source": "df.info()",
      "metadata": {
        "trusted": true
      },
      "outputs": [
        {
          "name": "stdout",
          "output_type": "stream",
          "text": "<class 'pandas.core.frame.DataFrame'>\nRangeIndex: 254 entries, 0 to 253\nData columns (total 9 columns):\n #   Column          Non-Null Count  Dtype  \n---  ------          --------------  -----  \n 0   Order ID        254 non-null    int64  \n 1   Date            254 non-null    object \n 2   Product         254 non-null    object \n 3   Price           254 non-null    float64\n 4   Quantity        254 non-null    float64\n 5   Purchase Type   254 non-null    object \n 6   Payment Method  254 non-null    object \n 7   Manager         254 non-null    object \n 8   City            254 non-null    object \ndtypes: float64(2), int64(1), object(6)\nmemory usage: 12.0+ KB\n"
        }
      ],
      "execution_count": 46
    },
    {
      "id": "1bc151b0-b0ca-4faf-b932-ae25aad5167b",
      "cell_type": "code",
      "source": "df.Quantity = df.Quantity.round()",
      "metadata": {
        "trusted": true
      },
      "outputs": [],
      "execution_count": 47
    },
    {
      "id": "6b5c703f-a3c6-45ed-ae15-d3c30d2582c7",
      "cell_type": "code",
      "source": "df.Quantity",
      "metadata": {
        "trusted": true
      },
      "outputs": [
        {
          "execution_count": 50,
          "output_type": "execute_result",
          "data": {
            "text/plain": "0      573.0\n1      746.0\n2      200.0\n3      570.0\n4      201.0\n       ...  \n249    200.0\n250    754.0\n251    281.0\n252    630.0\n253    678.0\nName: Quantity, Length: 254, dtype: float64"
          },
          "metadata": {}
        }
      ],
      "execution_count": 50
    },
    {
      "id": "81be531a-71d9-4efb-969c-b81e96c7c48c",
      "cell_type": "code",
      "source": "df.Quantity = df.Quantity.astype(int)",
      "metadata": {
        "trusted": true
      },
      "outputs": [],
      "execution_count": 51
    },
    {
      "id": "5f2fd893-3dfe-418c-b6fa-33ab3895c6f1",
      "cell_type": "code",
      "source": "df['Quantity']",
      "metadata": {
        "trusted": true
      },
      "outputs": [
        {
          "execution_count": 52,
          "output_type": "execute_result",
          "data": {
            "text/plain": "0      573\n1      746\n2      200\n3      570\n4      201\n      ... \n249    200\n250    754\n251    281\n252    630\n253    678\nName: Quantity, Length: 254, dtype: int32"
          },
          "metadata": {}
        }
      ],
      "execution_count": 52
    },
    {
      "id": "a9f837c1-7bb4-4d14-aa1a-beb46480e972",
      "cell_type": "code",
      "source": "df['order ID'] = df['Order ID'].astype(int)\ndf['Price'] = df['Price'].astype(float)\n",
      "metadata": {
        "trusted": true
      },
      "outputs": [],
      "execution_count": 54
    },
    {
      "id": "a8ae5148-50af-434f-98a6-5c4a82e2b23f",
      "cell_type": "code",
      "source": "df.info()",
      "metadata": {
        "trusted": true
      },
      "outputs": [
        {
          "name": "stdout",
          "output_type": "stream",
          "text": "<class 'pandas.core.frame.DataFrame'>\nRangeIndex: 254 entries, 0 to 253\nData columns (total 10 columns):\n #   Column          Non-Null Count  Dtype  \n---  ------          --------------  -----  \n 0   Order ID        254 non-null    int64  \n 1   Date            254 non-null    object \n 2   Product         254 non-null    object \n 3   Price           254 non-null    float64\n 4   Quantity        254 non-null    int32  \n 5   Purchase Type   254 non-null    object \n 6   Payment Method  254 non-null    object \n 7   Manager         254 non-null    object \n 8   City            254 non-null    object \n 9   order ID        254 non-null    int32  \ndtypes: float64(1), int32(2), int64(1), object(6)\nmemory usage: 12.0+ KB\n"
        }
      ],
      "execution_count": 56
    },
    {
      "id": "210bd259-3bd8-4faf-964a-8d919f3832f8",
      "cell_type": "code",
      "source": "df.Date = pd.to_datetime(df.Date, format = 'mixed')",
      "metadata": {
        "trusted": true
      },
      "outputs": [],
      "execution_count": 57
    },
    {
      "id": "9cbe41d0-cb97-4fe4-a712-773e2e210c67",
      "cell_type": "code",
      "source": "df.Date.dtype",
      "metadata": {
        "trusted": true
      },
      "outputs": [
        {
          "execution_count": 58,
          "output_type": "execute_result",
          "data": {
            "text/plain": "dtype('<M8[ns]')"
          },
          "metadata": {}
        }
      ],
      "execution_count": 58
    },
    {
      "id": "9a6545dd-fd54-4980-a4c7-7c2c3eef5c3d",
      "cell_type": "code",
      "source": "df.info()",
      "metadata": {
        "trusted": true
      },
      "outputs": [
        {
          "name": "stdout",
          "output_type": "stream",
          "text": "<class 'pandas.core.frame.DataFrame'>\nRangeIndex: 254 entries, 0 to 253\nData columns (total 10 columns):\n #   Column          Non-Null Count  Dtype         \n---  ------          --------------  -----         \n 0   Order ID        254 non-null    int64         \n 1   Date            254 non-null    datetime64[ns]\n 2   Product         254 non-null    object        \n 3   Price           254 non-null    float64       \n 4   Quantity        254 non-null    int32         \n 5   Purchase Type   254 non-null    object        \n 6   Payment Method  254 non-null    object        \n 7   Manager         254 non-null    object        \n 8   City            254 non-null    object        \n 9   order ID        254 non-null    int32         \ndtypes: datetime64[ns](1), float64(1), int32(2), int64(1), object(5)\nmemory usage: 13.0+ KB\n"
        }
      ],
      "execution_count": 59
    },
    {
      "id": "1da46065-82de-4958-ac43-d6d506f0a9cd",
      "cell_type": "code",
      "source": "df",
      "metadata": {
        "trusted": true
      },
      "outputs": [
        {
          "execution_count": 60,
          "output_type": "execute_result",
          "data": {
            "text/plain": "     Order ID       Date             Product  Price  Quantity Purchase Type  \\\n0       10452 2022-07-11               Fries   3.49       573       Online    \n1       10453 2022-07-11           Beverages   2.95       746       Online    \n2       10454 2022-07-11       Sides & Other   4.99       200     In-store    \n3       10455 2022-08-11             Burgers  12.99       570     In-store    \n4       10456 2022-08-11  Chicken Sandwiches   9.95       201     In-store    \n..        ...        ...                 ...    ...       ...           ...   \n249     10709 2022-12-28       Sides & Other   4.99       200   Drive-thru    \n250     10710 2022-12-29             Burgers  12.99       754   Drive-thru    \n251     10711 2022-12-29  Chicken Sandwiches   9.95       281   Drive-thru    \n252     10712 2022-12-29               Fries   3.49       630   Drive-thru    \n253     10713 2022-12-29           Beverages   2.95       678   Drive-thru    \n\n    Payment Method           Manager    City  order ID  \n0        Gift Card  Tom      Jackson  London     10452  \n1        Gift Card       Pablo Perez  Madrid     10453  \n2        Gift Card     Joao    Silva  Lisbon     10454  \n3      Credit Card     Walter Muller  Berlin     10455  \n4      Credit Card     Walter Muller  Berlin     10456  \n..             ...               ...     ...       ...  \n249      Gift Card     Walter Muller  Berlin     10709  \n250      Gift Card     Walter Muller  Berlin     10710  \n251      Gift Card     Walter Muller  Berlin     10711  \n252      Gift Card     Walter Muller  Berlin     10712  \n253      Gift Card     Walter Muller  Berlin     10713  \n\n[254 rows x 10 columns]",
            "text/html": "<div>\n<style scoped>\n    .dataframe tbody tr th:only-of-type {\n        vertical-align: middle;\n    }\n\n    .dataframe tbody tr th {\n        vertical-align: top;\n    }\n\n    .dataframe thead th {\n        text-align: right;\n    }\n</style>\n<table border=\"1\" class=\"dataframe\">\n  <thead>\n    <tr style=\"text-align: right;\">\n      <th></th>\n      <th>Order ID</th>\n      <th>Date</th>\n      <th>Product</th>\n      <th>Price</th>\n      <th>Quantity</th>\n      <th>Purchase Type</th>\n      <th>Payment Method</th>\n      <th>Manager</th>\n      <th>City</th>\n      <th>order ID</th>\n    </tr>\n  </thead>\n  <tbody>\n    <tr>\n      <th>0</th>\n      <td>10452</td>\n      <td>2022-07-11</td>\n      <td>Fries</td>\n      <td>3.49</td>\n      <td>573</td>\n      <td>Online</td>\n      <td>Gift Card</td>\n      <td>Tom      Jackson</td>\n      <td>London</td>\n      <td>10452</td>\n    </tr>\n    <tr>\n      <th>1</th>\n      <td>10453</td>\n      <td>2022-07-11</td>\n      <td>Beverages</td>\n      <td>2.95</td>\n      <td>746</td>\n      <td>Online</td>\n      <td>Gift Card</td>\n      <td>Pablo Perez</td>\n      <td>Madrid</td>\n      <td>10453</td>\n    </tr>\n    <tr>\n      <th>2</th>\n      <td>10454</td>\n      <td>2022-07-11</td>\n      <td>Sides &amp; Other</td>\n      <td>4.99</td>\n      <td>200</td>\n      <td>In-store</td>\n      <td>Gift Card</td>\n      <td>Joao    Silva</td>\n      <td>Lisbon</td>\n      <td>10454</td>\n    </tr>\n    <tr>\n      <th>3</th>\n      <td>10455</td>\n      <td>2022-08-11</td>\n      <td>Burgers</td>\n      <td>12.99</td>\n      <td>570</td>\n      <td>In-store</td>\n      <td>Credit Card</td>\n      <td>Walter Muller</td>\n      <td>Berlin</td>\n      <td>10455</td>\n    </tr>\n    <tr>\n      <th>4</th>\n      <td>10456</td>\n      <td>2022-08-11</td>\n      <td>Chicken Sandwiches</td>\n      <td>9.95</td>\n      <td>201</td>\n      <td>In-store</td>\n      <td>Credit Card</td>\n      <td>Walter Muller</td>\n      <td>Berlin</td>\n      <td>10456</td>\n    </tr>\n    <tr>\n      <th>...</th>\n      <td>...</td>\n      <td>...</td>\n      <td>...</td>\n      <td>...</td>\n      <td>...</td>\n      <td>...</td>\n      <td>...</td>\n      <td>...</td>\n      <td>...</td>\n      <td>...</td>\n    </tr>\n    <tr>\n      <th>249</th>\n      <td>10709</td>\n      <td>2022-12-28</td>\n      <td>Sides &amp; Other</td>\n      <td>4.99</td>\n      <td>200</td>\n      <td>Drive-thru</td>\n      <td>Gift Card</td>\n      <td>Walter Muller</td>\n      <td>Berlin</td>\n      <td>10709</td>\n    </tr>\n    <tr>\n      <th>250</th>\n      <td>10710</td>\n      <td>2022-12-29</td>\n      <td>Burgers</td>\n      <td>12.99</td>\n      <td>754</td>\n      <td>Drive-thru</td>\n      <td>Gift Card</td>\n      <td>Walter Muller</td>\n      <td>Berlin</td>\n      <td>10710</td>\n    </tr>\n    <tr>\n      <th>251</th>\n      <td>10711</td>\n      <td>2022-12-29</td>\n      <td>Chicken Sandwiches</td>\n      <td>9.95</td>\n      <td>281</td>\n      <td>Drive-thru</td>\n      <td>Gift Card</td>\n      <td>Walter Muller</td>\n      <td>Berlin</td>\n      <td>10711</td>\n    </tr>\n    <tr>\n      <th>252</th>\n      <td>10712</td>\n      <td>2022-12-29</td>\n      <td>Fries</td>\n      <td>3.49</td>\n      <td>630</td>\n      <td>Drive-thru</td>\n      <td>Gift Card</td>\n      <td>Walter Muller</td>\n      <td>Berlin</td>\n      <td>10712</td>\n    </tr>\n    <tr>\n      <th>253</th>\n      <td>10713</td>\n      <td>2022-12-29</td>\n      <td>Beverages</td>\n      <td>2.95</td>\n      <td>678</td>\n      <td>Drive-thru</td>\n      <td>Gift Card</td>\n      <td>Walter Muller</td>\n      <td>Berlin</td>\n      <td>10713</td>\n    </tr>\n  </tbody>\n</table>\n<p>254 rows × 10 columns</p>\n</div>"
          },
          "metadata": {}
        }
      ],
      "execution_count": 60
    },
    {
      "id": "d39ddd94-adb9-4899-a895-4e78351328e1",
      "cell_type": "code",
      "source": "df.head()",
      "metadata": {
        "trusted": true
      },
      "outputs": [
        {
          "execution_count": 61,
          "output_type": "execute_result",
          "data": {
            "text/plain": "   Order ID       Date             Product  Price  Quantity Purchase Type  \\\n0     10452 2022-07-11               Fries   3.49       573       Online    \n1     10453 2022-07-11           Beverages   2.95       746       Online    \n2     10454 2022-07-11       Sides & Other   4.99       200     In-store    \n3     10455 2022-08-11             Burgers  12.99       570     In-store    \n4     10456 2022-08-11  Chicken Sandwiches   9.95       201     In-store    \n\n  Payment Method           Manager    City  order ID  \n0      Gift Card  Tom      Jackson  London     10452  \n1      Gift Card       Pablo Perez  Madrid     10453  \n2      Gift Card     Joao    Silva  Lisbon     10454  \n3    Credit Card     Walter Muller  Berlin     10455  \n4    Credit Card     Walter Muller  Berlin     10456  ",
            "text/html": "<div>\n<style scoped>\n    .dataframe tbody tr th:only-of-type {\n        vertical-align: middle;\n    }\n\n    .dataframe tbody tr th {\n        vertical-align: top;\n    }\n\n    .dataframe thead th {\n        text-align: right;\n    }\n</style>\n<table border=\"1\" class=\"dataframe\">\n  <thead>\n    <tr style=\"text-align: right;\">\n      <th></th>\n      <th>Order ID</th>\n      <th>Date</th>\n      <th>Product</th>\n      <th>Price</th>\n      <th>Quantity</th>\n      <th>Purchase Type</th>\n      <th>Payment Method</th>\n      <th>Manager</th>\n      <th>City</th>\n      <th>order ID</th>\n    </tr>\n  </thead>\n  <tbody>\n    <tr>\n      <th>0</th>\n      <td>10452</td>\n      <td>2022-07-11</td>\n      <td>Fries</td>\n      <td>3.49</td>\n      <td>573</td>\n      <td>Online</td>\n      <td>Gift Card</td>\n      <td>Tom      Jackson</td>\n      <td>London</td>\n      <td>10452</td>\n    </tr>\n    <tr>\n      <th>1</th>\n      <td>10453</td>\n      <td>2022-07-11</td>\n      <td>Beverages</td>\n      <td>2.95</td>\n      <td>746</td>\n      <td>Online</td>\n      <td>Gift Card</td>\n      <td>Pablo Perez</td>\n      <td>Madrid</td>\n      <td>10453</td>\n    </tr>\n    <tr>\n      <th>2</th>\n      <td>10454</td>\n      <td>2022-07-11</td>\n      <td>Sides &amp; Other</td>\n      <td>4.99</td>\n      <td>200</td>\n      <td>In-store</td>\n      <td>Gift Card</td>\n      <td>Joao    Silva</td>\n      <td>Lisbon</td>\n      <td>10454</td>\n    </tr>\n    <tr>\n      <th>3</th>\n      <td>10455</td>\n      <td>2022-08-11</td>\n      <td>Burgers</td>\n      <td>12.99</td>\n      <td>570</td>\n      <td>In-store</td>\n      <td>Credit Card</td>\n      <td>Walter Muller</td>\n      <td>Berlin</td>\n      <td>10455</td>\n    </tr>\n    <tr>\n      <th>4</th>\n      <td>10456</td>\n      <td>2022-08-11</td>\n      <td>Chicken Sandwiches</td>\n      <td>9.95</td>\n      <td>201</td>\n      <td>In-store</td>\n      <td>Credit Card</td>\n      <td>Walter Muller</td>\n      <td>Berlin</td>\n      <td>10456</td>\n    </tr>\n  </tbody>\n</table>\n</div>"
          },
          "metadata": {}
        }
      ],
      "execution_count": 61
    },
    {
      "id": "da5af181-c674-40b6-9846-df4ee0ab564e",
      "cell_type": "code",
      "source": "df['Payment Method'].unique()",
      "metadata": {
        "trusted": true
      },
      "outputs": [
        {
          "execution_count": 63,
          "output_type": "execute_result",
          "data": {
            "text/plain": "array([' Gift Card', ' Credit Card', ' Cash'], dtype=object)"
          },
          "metadata": {}
        }
      ],
      "execution_count": 63
    },
    {
      "id": "2d7cd94f-a005-402b-9da0-a0e845dd294b",
      "cell_type": "code",
      "source": "df['Payment Method'].nunique()",
      "metadata": {
        "trusted": true
      },
      "outputs": [
        {
          "execution_count": 65,
          "output_type": "execute_result",
          "data": {
            "text/plain": "3"
          },
          "metadata": {}
        }
      ],
      "execution_count": 65
    },
    {
      "id": "9a1cb917-52a4-4b52-a30e-0c1d1d6a9d40",
      "cell_type": "code",
      "source": "df['Payment Method'].value_counts()",
      "metadata": {
        "trusted": true
      },
      "outputs": [
        {
          "execution_count": 66,
          "output_type": "execute_result",
          "data": {
            "text/plain": "Payment Method\nCredit Card    120\nCash            76\nGift Card       58\nName: count, dtype: int64"
          },
          "metadata": {}
        }
      ],
      "execution_count": 66
    },
    {
      "id": "ee75e577-223d-4e1e-bf42-a3cdcb16d7a7",
      "cell_type": "code",
      "source": "df['Payment Method'].value_counts(normalize=True)*100",
      "metadata": {
        "trusted": true
      },
      "outputs": [
        {
          "execution_count": 69,
          "output_type": "execute_result",
          "data": {
            "text/plain": "Payment Method\nCredit Card    47.244094\nCash           29.921260\nGift Card      22.834646\nName: proportion, dtype: float64"
          },
          "metadata": {}
        }
      ],
      "execution_count": 69
    },
    {
      "id": "a158cf6d-8a73-44c2-8c8b-38e7266e97e9",
      "cell_type": "code",
      "source": "df['Payment Method'].value_counts().plot(kind='bar')",
      "metadata": {
        "trusted": true
      },
      "outputs": [
        {
          "execution_count": 70,
          "output_type": "execute_result",
          "data": {
            "text/plain": "<Axes: xlabel='Payment Method'>"
          },
          "metadata": {}
        },
        {
          "output_type": "display_data",
          "data": {
            "text/plain": "<Figure size 640x480 with 1 Axes>",
            "image/png": "[encoded data removed]"
          },
          "metadata": {}
        }
      ],
      "execution_count": 70
    },
    {
      "id": "522c1894-a0d5-48d9-a7f9-58b2994bdee0",
      "cell_type": "code",
      "source": "df.head()",
      "metadata": {
        "trusted": true
      },
      "outputs": [
        {
          "execution_count": 71,
          "output_type": "execute_result",
          "data": {
            "text/plain": "   Order ID       Date             Product  Price  Quantity Purchase Type  \\\n0     10452 2022-07-11               Fries   3.49       573       Online    \n1     10453 2022-07-11           Beverages   2.95       746       Online    \n2     10454 2022-07-11       Sides & Other   4.99       200     In-store    \n3     10455 2022-08-11             Burgers  12.99       570     In-store    \n4     10456 2022-08-11  Chicken Sandwiches   9.95       201     In-store    \n\n  Payment Method           Manager    City  order ID  \n0      Gift Card  Tom      Jackson  London     10452  \n1      Gift Card       Pablo Perez  Madrid     10453  \n2      Gift Card     Joao    Silva  Lisbon     10454  \n3    Credit Card     Walter Muller  Berlin     10455  \n4    Credit Card     Walter Muller  Berlin     10456  ",
            "text/html": "<div>\n<style scoped>\n    .dataframe tbody tr th:only-of-type {\n        vertical-align: middle;\n    }\n\n    .dataframe tbody tr th {\n        vertical-align: top;\n    }\n\n    .dataframe thead th {\n        text-align: right;\n    }\n</style>\n<table border=\"1\" class=\"dataframe\">\n  <thead>\n    <tr style=\"text-align: right;\">\n      <th></th>\n      <th>Order ID</th>\n      <th>Date</th>\n      <th>Product</th>\n      <th>Price</th>\n      <th>Quantity</th>\n      <th>Purchase Type</th>\n      <th>Payment Method</th>\n      <th>Manager</th>\n      <th>City</th>\n      <th>order ID</th>\n    </tr>\n  </thead>\n  <tbody>\n    <tr>\n      <th>0</th>\n      <td>10452</td>\n      <td>2022-07-11</td>\n      <td>Fries</td>\n      <td>3.49</td>\n      <td>573</td>\n      <td>Online</td>\n      <td>Gift Card</td>\n      <td>Tom      Jackson</td>\n      <td>London</td>\n      <td>10452</td>\n    </tr>\n    <tr>\n      <th>1</th>\n      <td>10453</td>\n      <td>2022-07-11</td>\n      <td>Beverages</td>\n      <td>2.95</td>\n      <td>746</td>\n      <td>Online</td>\n      <td>Gift Card</td>\n      <td>Pablo Perez</td>\n      <td>Madrid</td>\n      <td>10453</td>\n    </tr>\n    <tr>\n      <th>2</th>\n      <td>10454</td>\n      <td>2022-07-11</td>\n      <td>Sides &amp; Other</td>\n      <td>4.99</td>\n      <td>200</td>\n      <td>In-store</td>\n      <td>Gift Card</td>\n      <td>Joao    Silva</td>\n      <td>Lisbon</td>\n      <td>10454</td>\n    </tr>\n    <tr>\n      <th>3</th>\n      <td>10455</td>\n      <td>2022-08-11</td>\n      <td>Burgers</td>\n      <td>12.99</td>\n      <td>570</td>\n      <td>In-store</td>\n      <td>Credit Card</td>\n      <td>Walter Muller</td>\n      <td>Berlin</td>\n      <td>10455</td>\n    </tr>\n    <tr>\n      <th>4</th>\n      <td>10456</td>\n      <td>2022-08-11</td>\n      <td>Chicken Sandwiches</td>\n      <td>9.95</td>\n      <td>201</td>\n      <td>In-store</td>\n      <td>Credit Card</td>\n      <td>Walter Muller</td>\n      <td>Berlin</td>\n      <td>10456</td>\n    </tr>\n  </tbody>\n</table>\n</div>"
          },
          "metadata": {}
        }
      ],
      "execution_count": 71
    },
    {
      "id": "e32b0b76-97c1-42c7-ab58-981b72d551b3",
      "cell_type": "code",
      "source": "df.groupby('Product')['Quantity'].sum()",
      "metadata": {
        "trusted": true
      },
      "outputs": [
        {
          "execution_count": 72,
          "output_type": "execute_result",
          "data": {
            "text/plain": "Product\nBeverages             34988\nBurgers               29018\nChicken Sandwiches    11133\nFries                 32023\nSides & Other          9800\nName: Quantity, dtype: int32"
          },
          "metadata": {}
        }
      ],
      "execution_count": 72
    },
    {
      "id": "d98aa38b-7a79-4baa-bf8e-125afc1e9528",
      "cell_type": "code",
      "source": "df.info()",
      "metadata": {
        "trusted": true
      },
      "outputs": [
        {
          "name": "stdout",
          "output_type": "stream",
          "text": "<class 'pandas.core.frame.DataFrame'>\nRangeIndex: 254 entries, 0 to 253\nData columns (total 10 columns):\n #   Column          Non-Null Count  Dtype         \n---  ------          --------------  -----         \n 0   Order ID        254 non-null    int64         \n 1   Date            254 non-null    datetime64[ns]\n 2   Product         254 non-null    object        \n 3   Price           254 non-null    float64       \n 4   Quantity        254 non-null    int32         \n 5   Purchase Type   254 non-null    object        \n 6   Payment Method  254 non-null    object        \n 7   Manager         254 non-null    object        \n 8   City            254 non-null    object        \n 9   order ID        254 non-null    int32         \ndtypes: datetime64[ns](1), float64(1), int32(2), int64(1), object(5)\nmemory usage: 13.0+ KB\n"
        }
      ],
      "execution_count": 74
    },
    {
      "id": "1293de90-d4a4-4c7e-bf9a-6ef8dd1850c3",
      "cell_type": "code",
      "source": "df.groupby('Product')['Quantity'].sum().sort_values(ascending=False)",
      "metadata": {
        "trusted": true
      },
      "outputs": [
        {
          "execution_count": 77,
          "output_type": "execute_result",
          "data": {
            "text/plain": "Product\nBeverages             34988\nFries                 32023\nBurgers               29018\nChicken Sandwiches    11133\nSides & Other          9800\nName: Quantity, dtype: int32"
          },
          "metadata": {}
        }
      ],
      "execution_count": 77
    },
    {
      "id": "213724e7-c576-4350-b0f8-62c314a2bd01",
      "cell_type": "code",
      "source": "most_quantity = df.groupby('Product')['Quantity'].sum().sort_values(ascending=False)\nmost_quantity",
      "metadata": {
        "trusted": true
      },
      "outputs": [
        {
          "execution_count": 78,
          "output_type": "execute_result",
          "data": {
            "text/plain": "Product\nBeverages             34988\nFries                 32023\nBurgers               29018\nChicken Sandwiches    11133\nSides & Other          9800\nName: Quantity, dtype: int32"
          },
          "metadata": {}
        }
      ],
      "execution_count": 78
    },
    {
      "id": "23da8838-d5cf-4f34-9367-8374d839dad2",
      "cell_type": "code",
      "source": "type(most_quantity)",
      "metadata": {
        "trusted": true
      },
      "outputs": [
        {
          "execution_count": 79,
          "output_type": "execute_result",
          "data": {
            "text/plain": "pandas.core.series.Series"
          },
          "metadata": {}
        }
      ],
      "execution_count": 79
    },
    {
      "id": "05ff3c3d-07ec-43c5-98e8-f24011e3664d",
      "cell_type": "code",
      "source": "most_quantity = most_quantity.reset_index()",
      "metadata": {
        "trusted": true
      },
      "outputs": [],
      "execution_count": 83
    },
    {
      "id": "fd5f2feb-614c-4ead-a650-533050a6e9d5",
      "cell_type": "code",
      "source": "most",
      "metadata": {
        "trusted": true
      },
      "outputs": [
        {
          "execution_count": 81,
          "output_type": "execute_result",
          "data": {
            "text/plain": "              Product  Quantity\n0           Beverages     34988\n1               Fries     32023\n2             Burgers     29018\n3  Chicken Sandwiches     11133\n4       Sides & Other      9800",
            "text/html": "<div>\n<style scoped>\n    .dataframe tbody tr th:only-of-type {\n        vertical-align: middle;\n    }\n\n    .dataframe tbody tr th {\n        vertical-align: top;\n    }\n\n    .dataframe thead th {\n        text-align: right;\n    }\n</style>\n<table border=\"1\" class=\"dataframe\">\n  <thead>\n    <tr style=\"text-align: right;\">\n      <th></th>\n      <th>Product</th>\n      <th>Quantity</th>\n    </tr>\n  </thead>\n  <tbody>\n    <tr>\n      <th>0</th>\n      <td>Beverages</td>\n      <td>34988</td>\n    </tr>\n    <tr>\n      <th>1</th>\n      <td>Fries</td>\n      <td>32023</td>\n    </tr>\n    <tr>\n      <th>2</th>\n      <td>Burgers</td>\n      <td>29018</td>\n    </tr>\n    <tr>\n      <th>3</th>\n      <td>Chicken Sandwiches</td>\n      <td>11133</td>\n    </tr>\n    <tr>\n      <th>4</th>\n      <td>Sides &amp; Other</td>\n      <td>9800</td>\n    </tr>\n  </tbody>\n</table>\n</div>"
          },
          "metadata": {}
        }
      ],
      "execution_count": 81
    },
    {
      "id": "54380160-e31b-42f8-9f98-a5790c8aa109",
      "cell_type": "code",
      "source": "type(most_quantity)",
      "metadata": {
        "trusted": true
      },
      "outputs": [
        {
          "execution_count": 85,
          "output_type": "execute_result",
          "data": {
            "text/plain": "pandas.core.frame.DataFrame"
          },
          "metadata": {}
        }
      ],
      "execution_count": 85
    },
    {
      "id": "f71c8843-e1a2-41e7-a93d-2c9269a200ec",
      "cell_type": "code",
      "source": "plt.figure(figsize = (9,4))\nplt.bar(most_quantity['Product'], most_quantity['Quantity'], color = ['pink', 'black', 'green', 'yellow', 'cyan'], width=0.4)\nplt.title(\"Most Selling Product - By Quantity\")\nplt.xlabel(\"Product\")\nplt.ylabel(\"Quantity\")",
      "metadata": {
        "trusted": true
      },
      "outputs": [
        {
          "execution_count": 89,
          "output_type": "execute_result",
          "data": {
            "text/plain": "Text(0, 0.5, 'Quantity')"
          },
          "metadata": {}
        },
        {
          "output_type": "display_data",
          "data": {
            "text/plain": "<Figure size 900x400 with 1 Axes>",
            "image/png": "[encoded data removed]"
          },
          "metadata": {}
        }
      ],
      "execution_count": 89
    },
    {
      "id": "36ea615c-ca28-4cd9-92d1-414146ff3343",
      "cell_type": "code",
      "source": "df.head()",
      "metadata": {
        "trusted": true
      },
      "outputs": [
        {
          "execution_count": 90,
          "output_type": "execute_result",
          "data": {
            "text/plain": "   Order ID       Date             Product  Price  Quantity Purchase Type  \\\n0     10452 2022-07-11               Fries   3.49       573       Online    \n1     10453 2022-07-11           Beverages   2.95       746       Online    \n2     10454 2022-07-11       Sides & Other   4.99       200     In-store    \n3     10455 2022-08-11             Burgers  12.99       570     In-store    \n4     10456 2022-08-11  Chicken Sandwiches   9.95       201     In-store    \n\n  Payment Method           Manager    City  order ID  \n0      Gift Card  Tom      Jackson  London     10452  \n1      Gift Card       Pablo Perez  Madrid     10453  \n2      Gift Card     Joao    Silva  Lisbon     10454  \n3    Credit Card     Walter Muller  Berlin     10455  \n4    Credit Card     Walter Muller  Berlin     10456  ",
            "text/html": "<div>\n<style scoped>\n    .dataframe tbody tr th:only-of-type {\n        vertical-align: middle;\n    }\n\n    .dataframe tbody tr th {\n        vertical-align: top;\n    }\n\n    .dataframe thead th {\n        text-align: right;\n    }\n</style>\n<table border=\"1\" class=\"dataframe\">\n  <thead>\n    <tr style=\"text-align: right;\">\n      <th></th>\n      <th>Order ID</th>\n      <th>Date</th>\n      <th>Product</th>\n      <th>Price</th>\n      <th>Quantity</th>\n      <th>Purchase Type</th>\n      <th>Payment Method</th>\n      <th>Manager</th>\n      <th>City</th>\n      <th>order ID</th>\n    </tr>\n  </thead>\n  <tbody>\n    <tr>\n      <th>0</th>\n      <td>10452</td>\n      <td>2022-07-11</td>\n      <td>Fries</td>\n      <td>3.49</td>\n      <td>573</td>\n      <td>Online</td>\n      <td>Gift Card</td>\n      <td>Tom      Jackson</td>\n      <td>London</td>\n      <td>10452</td>\n    </tr>\n    <tr>\n      <th>1</th>\n      <td>10453</td>\n      <td>2022-07-11</td>\n      <td>Beverages</td>\n      <td>2.95</td>\n      <td>746</td>\n      <td>Online</td>\n      <td>Gift Card</td>\n      <td>Pablo Perez</td>\n      <td>Madrid</td>\n      <td>10453</td>\n    </tr>\n    <tr>\n      <th>2</th>\n      <td>10454</td>\n      <td>2022-07-11</td>\n      <td>Sides &amp; Other</td>\n      <td>4.99</td>\n      <td>200</td>\n      <td>In-store</td>\n      <td>Gift Card</td>\n      <td>Joao    Silva</td>\n      <td>Lisbon</td>\n      <td>10454</td>\n    </tr>\n    <tr>\n      <th>3</th>\n      <td>10455</td>\n      <td>2022-08-11</td>\n      <td>Burgers</td>\n      <td>12.99</td>\n      <td>570</td>\n      <td>In-store</td>\n      <td>Credit Card</td>\n      <td>Walter Muller</td>\n      <td>Berlin</td>\n      <td>10455</td>\n    </tr>\n    <tr>\n      <th>4</th>\n      <td>10456</td>\n      <td>2022-08-11</td>\n      <td>Chicken Sandwiches</td>\n      <td>9.95</td>\n      <td>201</td>\n      <td>In-store</td>\n      <td>Credit Card</td>\n      <td>Walter Muller</td>\n      <td>Berlin</td>\n      <td>10456</td>\n    </tr>\n  </tbody>\n</table>\n</div>"
          },
          "metadata": {}
        }
      ],
      "execution_count": 90
    },
    {
      "id": "64bb937d-47fc-4acf-b28b-fd363b35438d",
      "cell_type": "code",
      "source": "df['Revenue'] = df['Price'] * df['Quantity']",
      "metadata": {
        "trusted": true
      },
      "outputs": [],
      "execution_count": 93
    },
    {
      "id": "da7378ca-49b8-4e61-b011-8aa42bbe42d3",
      "cell_type": "code",
      "source": "df",
      "metadata": {
        "trusted": true
      },
      "outputs": [
        {
          "execution_count": 94,
          "output_type": "execute_result",
          "data": {
            "text/plain": "     Order ID       Date             Product  Price  Quantity Purchase Type  \\\n0       10452 2022-07-11               Fries   3.49       573       Online    \n1       10453 2022-07-11           Beverages   2.95       746       Online    \n2       10454 2022-07-11       Sides & Other   4.99       200     In-store    \n3       10455 2022-08-11             Burgers  12.99       570     In-store    \n4       10456 2022-08-11  Chicken Sandwiches   9.95       201     In-store    \n..        ...        ...                 ...    ...       ...           ...   \n249     10709 2022-12-28       Sides & Other   4.99       200   Drive-thru    \n250     10710 2022-12-29             Burgers  12.99       754   Drive-thru    \n251     10711 2022-12-29  Chicken Sandwiches   9.95       281   Drive-thru    \n252     10712 2022-12-29               Fries   3.49       630   Drive-thru    \n253     10713 2022-12-29           Beverages   2.95       678   Drive-thru    \n\n    Payment Method           Manager    City  order ID  Revenue  \n0        Gift Card  Tom      Jackson  London     10452  1999.77  \n1        Gift Card       Pablo Perez  Madrid     10453  2200.70  \n2        Gift Card     Joao    Silva  Lisbon     10454   998.00  \n3      Credit Card     Walter Muller  Berlin     10455  7404.30  \n4      Credit Card     Walter Muller  Berlin     10456  1999.95  \n..             ...               ...     ...       ...      ...  \n249      Gift Card     Walter Muller  Berlin     10709   998.00  \n250      Gift Card     Walter Muller  Berlin     10710  9794.46  \n251      Gift Card     Walter Muller  Berlin     10711  2795.95  \n252      Gift Card     Walter Muller  Berlin     10712  2198.70  \n253      Gift Card     Walter Muller  Berlin     10713  2000.10  \n\n[254 rows x 11 columns]",
            "text/html": "<div>\n<style scoped>\n    .dataframe tbody tr th:only-of-type {\n        vertical-align: middle;\n    }\n\n    .dataframe tbody tr th {\n        vertical-align: top;\n    }\n\n    .dataframe thead th {\n        text-align: right;\n    }\n</style>\n<table border=\"1\" class=\"dataframe\">\n  <thead>\n    <tr style=\"text-align: right;\">\n      <th></th>\n      <th>Order ID</th>\n      <th>Date</th>\n      <th>Product</th>\n      <th>Price</th>\n      <th>Quantity</th>\n      <th>Purchase Type</th>\n      <th>Payment Method</th>\n      <th>Manager</th>\n      <th>City</th>\n      <th>order ID</th>\n      <th>Revenue</th>\n    </tr>\n  </thead>\n  <tbody>\n    <tr>\n      <th>0</th>\n      <td>10452</td>\n      <td>2022-07-11</td>\n      <td>Fries</td>\n      <td>3.49</td>\n      <td>573</td>\n      <td>Online</td>\n      <td>Gift Card</td>\n      <td>Tom      Jackson</td>\n      <td>London</td>\n      <td>10452</td>\n      <td>1999.77</td>\n    </tr>\n    <tr>\n      <th>1</th>\n      <td>10453</td>\n      <td>2022-07-11</td>\n      <td>Beverages</td>\n      <td>2.95</td>\n      <td>746</td>\n      <td>Online</td>\n      <td>Gift Card</td>\n      <td>Pablo Perez</td>\n      <td>Madrid</td>\n      <td>10453</td>\n      <td>2200.70</td>\n    </tr>\n    <tr>\n      <th>2</th>\n      <td>10454</td>\n      <td>2022-07-11</td>\n      <td>Sides &amp; Other</td>\n      <td>4.99</td>\n      <td>200</td>\n      <td>In-store</td>\n      <td>Gift Card</td>\n      <td>Joao    Silva</td>\n      <td>Lisbon</td>\n      <td>10454</td>\n      <td>998.00</td>\n    </tr>\n    <tr>\n      <th>3</th>\n      <td>10455</td>\n      <td>2022-08-11</td>\n      <td>Burgers</td>\n      <td>12.99</td>\n      <td>570</td>\n      <td>In-store</td>\n      <td>Credit Card</td>\n      <td>Walter Muller</td>\n      <td>Berlin</td>\n      <td>10455</td>\n      <td>7404.30</td>\n    </tr>\n    <tr>\n      <th>4</th>\n      <td>10456</td>\n      <td>2022-08-11</td>\n      <td>Chicken Sandwiches</td>\n      <td>9.95</td>\n      <td>201</td>\n      <td>In-store</td>\n      <td>Credit Card</td>\n      <td>Walter Muller</td>\n      <td>Berlin</td>\n      <td>10456</td>\n      <td>1999.95</td>\n    </tr>\n    <tr>\n      <th>...</th>\n      <td>...</td>\n      <td>...</td>\n      <td>...</td>\n      <td>...</td>\n      <td>...</td>\n      <td>...</td>\n      <td>...</td>\n      <td>...</td>\n      <td>...</td>\n      <td>...</td>\n      <td>...</td>\n    </tr>\n    <tr>\n      <th>249</th>\n      <td>10709</td>\n      <td>2022-12-28</td>\n      <td>Sides &amp; Other</td>\n      <td>4.99</td>\n      <td>200</td>\n      <td>Drive-thru</td>\n      <td>Gift Card</td>\n      <td>Walter Muller</td>\n      <td>Berlin</td>\n      <td>10709</td>\n      <td>998.00</td>\n    </tr>\n    <tr>\n      <th>250</th>\n      <td>10710</td>\n      <td>2022-12-29</td>\n      <td>Burgers</td>\n      <td>12.99</td>\n      <td>754</td>\n      <td>Drive-thru</td>\n      <td>Gift Card</td>\n      <td>Walter Muller</td>\n      <td>Berlin</td>\n      <td>10710</td>\n      <td>9794.46</td>\n    </tr>\n    <tr>\n      <th>251</th>\n      <td>10711</td>\n      <td>2022-12-29</td>\n      <td>Chicken Sandwiches</td>\n      <td>9.95</td>\n      <td>281</td>\n      <td>Drive-thru</td>\n      <td>Gift Card</td>\n      <td>Walter Muller</td>\n      <td>Berlin</td>\n      <td>10711</td>\n      <td>2795.95</td>\n    </tr>\n    <tr>\n      <th>252</th>\n      <td>10712</td>\n      <td>2022-12-29</td>\n      <td>Fries</td>\n      <td>3.49</td>\n      <td>630</td>\n      <td>Drive-thru</td>\n      <td>Gift Card</td>\n      <td>Walter Muller</td>\n      <td>Berlin</td>\n      <td>10712</td>\n      <td>2198.70</td>\n    </tr>\n    <tr>\n      <th>253</th>\n      <td>10713</td>\n      <td>2022-12-29</td>\n      <td>Beverages</td>\n      <td>2.95</td>\n      <td>678</td>\n      <td>Drive-thru</td>\n      <td>Gift Card</td>\n      <td>Walter Muller</td>\n      <td>Berlin</td>\n      <td>10713</td>\n      <td>2000.10</td>\n    </tr>\n  </tbody>\n</table>\n<p>254 rows × 11 columns</p>\n</div>"
          },
          "metadata": {}
        }
      ],
      "execution_count": 94
    },
    {
      "id": "6e560bc8-2395-4279-97ef-482b2216da11",
      "cell_type": "code",
      "source": "df.groupby('Product')['Revenue'].sum().sort_values(ascending = False)",
      "metadata": {
        "trusted": true
      },
      "outputs": [
        {
          "execution_count": 96,
          "output_type": "execute_result",
          "data": {
            "text/plain": "Product\nBurgers               376943.82\nFries                 125626.57\nChicken Sandwiches    114612.45\nBeverages             103214.60\nSides & Other          48902.00\nName: Revenue, dtype: float64"
          },
          "metadata": {}
        }
      ],
      "execution_count": 96
    },
    {
      "id": "094376a8-b153-4b9a-94ee-95290b280ee2",
      "cell_type": "code",
      "source": "most_revenue = df.groupby('Product')['Revenue'].sum().sort_values(ascending = False)\nmost_revenue",
      "metadata": {
        "trusted": true
      },
      "outputs": [
        {
          "execution_count": 99,
          "output_type": "execute_result",
          "data": {
            "text/plain": "Product\nBurgers               376943.82\nFries                 125626.57\nChicken Sandwiches    114612.45\nBeverages             103214.60\nSides & Other          48902.00\nName: Revenue, dtype: float64"
          },
          "metadata": {}
        }
      ],
      "execution_count": 99
    },
    {
      "id": "826dd3f0-eff3-41be-a0f2-9cd0f6ef1424",
      "cell_type": "code",
      "source": "most_revenue = most_revenue.reset_index()",
      "metadata": {
        "trusted": true
      },
      "outputs": [],
      "execution_count": 100
    },
    {
      "id": "607fe493-58e7-4ca7-a28e-919b09abc09a",
      "cell_type": "code",
      "source": "most_revenue",
      "metadata": {
        "trusted": true
      },
      "outputs": [
        {
          "execution_count": 101,
          "output_type": "execute_result",
          "data": {
            "text/plain": "              Product    Revenue\n0             Burgers  376943.82\n1               Fries  125626.57\n2  Chicken Sandwiches  114612.45\n3           Beverages  103214.60\n4       Sides & Other   48902.00",
            "text/html": "<div>\n<style scoped>\n    .dataframe tbody tr th:only-of-type {\n        vertical-align: middle;\n    }\n\n    .dataframe tbody tr th {\n        vertical-align: top;\n    }\n\n    .dataframe thead th {\n        text-align: right;\n    }\n</style>\n<table border=\"1\" class=\"dataframe\">\n  <thead>\n    <tr style=\"text-align: right;\">\n      <th></th>\n      <th>Product</th>\n      <th>Revenue</th>\n    </tr>\n  </thead>\n  <tbody>\n    <tr>\n      <th>0</th>\n      <td>Burgers</td>\n      <td>376943.82</td>\n    </tr>\n    <tr>\n      <th>1</th>\n      <td>Fries</td>\n      <td>125626.57</td>\n    </tr>\n    <tr>\n      <th>2</th>\n      <td>Chicken Sandwiches</td>\n      <td>114612.45</td>\n    </tr>\n    <tr>\n      <th>3</th>\n      <td>Beverages</td>\n      <td>103214.60</td>\n    </tr>\n    <tr>\n      <th>4</th>\n      <td>Sides &amp; Other</td>\n      <td>48902.00</td>\n    </tr>\n  </tbody>\n</table>\n</div>"
          },
          "metadata": {}
        }
      ],
      "execution_count": 101
    },
    {
      "id": "73710035-ab93-4827-b11c-7cb93fa1b971",
      "cell_type": "code",
      "source": "plt.figure(figsize=(9,4))\nplt.bar(most_revenue['Product'], most_revenue['Revenue'],  color = ['green', 'red', 'black', 'yellow', 'cyan'], width = 0.3);\nplt.title(\"Most Selling Product - By Revenue\")       # setting the title       \nplt.xlabel(\"Product\")                                # setting the x-axis label\nplt.ylabel(\"Revenue\");                               # setting the y-axis label",
      "metadata": {
        "trusted": true
      },
      "outputs": [
        {
          "output_type": "display_data",
          "data": {
            "text/plain": "<Figure size 900x400 with 1 Axes>",
            "image/png": "[encoded data removed]"
          },
          "metadata": {}
        }
      ],
      "execution_count": 102
    },
    {
      "id": "2aa1482d-2965-4151-b7cd-626507d19ab9",
      "cell_type": "code",
      "source": "df",
      "metadata": {
        "trusted": true
      },
      "outputs": [
        {
          "execution_count": 103,
          "output_type": "execute_result",
          "data": {
            "text/plain": "     Order ID       Date             Product  Price  Quantity Purchase Type  \\\n0       10452 2022-07-11               Fries   3.49       573       Online    \n1       10453 2022-07-11           Beverages   2.95       746       Online    \n2       10454 2022-07-11       Sides & Other   4.99       200     In-store    \n3       10455 2022-08-11             Burgers  12.99       570     In-store    \n4       10456 2022-08-11  Chicken Sandwiches   9.95       201     In-store    \n..        ...        ...                 ...    ...       ...           ...   \n249     10709 2022-12-28       Sides & Other   4.99       200   Drive-thru    \n250     10710 2022-12-29             Burgers  12.99       754   Drive-thru    \n251     10711 2022-12-29  Chicken Sandwiches   9.95       281   Drive-thru    \n252     10712 2022-12-29               Fries   3.49       630   Drive-thru    \n253     10713 2022-12-29           Beverages   2.95       678   Drive-thru    \n\n    Payment Method           Manager    City  order ID  Revenue  \n0        Gift Card  Tom      Jackson  London     10452  1999.77  \n1        Gift Card       Pablo Perez  Madrid     10453  2200.70  \n2        Gift Card     Joao    Silva  Lisbon     10454   998.00  \n3      Credit Card     Walter Muller  Berlin     10455  7404.30  \n4      Credit Card     Walter Muller  Berlin     10456  1999.95  \n..             ...               ...     ...       ...      ...  \n249      Gift Card     Walter Muller  Berlin     10709   998.00  \n250      Gift Card     Walter Muller  Berlin     10710  9794.46  \n251      Gift Card     Walter Muller  Berlin     10711  2795.95  \n252      Gift Card     Walter Muller  Berlin     10712  2198.70  \n253      Gift Card     Walter Muller  Berlin     10713  2000.10  \n\n[254 rows x 11 columns]",
            "text/html": "<div>\n<style scoped>\n    .dataframe tbody tr th:only-of-type {\n        vertical-align: middle;\n    }\n\n    .dataframe tbody tr th {\n        vertical-align: top;\n    }\n\n    .dataframe thead th {\n        text-align: right;\n    }\n</style>\n<table border=\"1\" class=\"dataframe\">\n  <thead>\n    <tr style=\"text-align: right;\">\n      <th></th>\n      <th>Order ID</th>\n      <th>Date</th>\n      <th>Product</th>\n      <th>Price</th>\n      <th>Quantity</th>\n      <th>Purchase Type</th>\n      <th>Payment Method</th>\n      <th>Manager</th>\n      <th>City</th>\n      <th>order ID</th>\n      <th>Revenue</th>\n    </tr>\n  </thead>\n  <tbody>\n    <tr>\n      <th>0</th>\n      <td>10452</td>\n      <td>2022-07-11</td>\n      <td>Fries</td>\n      <td>3.49</td>\n      <td>573</td>\n      <td>Online</td>\n      <td>Gift Card</td>\n      <td>Tom      Jackson</td>\n      <td>London</td>\n      <td>10452</td>\n      <td>1999.77</td>\n    </tr>\n    <tr>\n      <th>1</th>\n      <td>10453</td>\n      <td>2022-07-11</td>\n      <td>Beverages</td>\n      <td>2.95</td>\n      <td>746</td>\n      <td>Online</td>\n      <td>Gift Card</td>\n      <td>Pablo Perez</td>\n      <td>Madrid</td>\n      <td>10453</td>\n      <td>2200.70</td>\n    </tr>\n    <tr>\n      <th>2</th>\n      <td>10454</td>\n      <td>2022-07-11</td>\n      <td>Sides &amp; Other</td>\n      <td>4.99</td>\n      <td>200</td>\n      <td>In-store</td>\n      <td>Gift Card</td>\n      <td>Joao    Silva</td>\n      <td>Lisbon</td>\n      <td>10454</td>\n      <td>998.00</td>\n    </tr>\n    <tr>\n      <th>3</th>\n      <td>10455</td>\n      <td>2022-08-11</td>\n      <td>Burgers</td>\n      <td>12.99</td>\n      <td>570</td>\n      <td>In-store</td>\n      <td>Credit Card</td>\n      <td>Walter Muller</td>\n      <td>Berlin</td>\n      <td>10455</td>\n      <td>7404.30</td>\n    </tr>\n    <tr>\n      <th>4</th>\n      <td>10456</td>\n      <td>2022-08-11</td>\n      <td>Chicken Sandwiches</td>\n      <td>9.95</td>\n      <td>201</td>\n      <td>In-store</td>\n      <td>Credit Card</td>\n      <td>Walter Muller</td>\n      <td>Berlin</td>\n      <td>10456</td>\n      <td>1999.95</td>\n    </tr>\n    <tr>\n      <th>...</th>\n      <td>...</td>\n      <td>...</td>\n      <td>...</td>\n      <td>...</td>\n      <td>...</td>\n      <td>...</td>\n      <td>...</td>\n      <td>...</td>\n      <td>...</td>\n      <td>...</td>\n      <td>...</td>\n    </tr>\n    <tr>\n      <th>249</th>\n      <td>10709</td>\n      <td>2022-12-28</td>\n      <td>Sides &amp; Other</td>\n      <td>4.99</td>\n      <td>200</td>\n      <td>Drive-thru</td>\n      <td>Gift Card</td>\n      <td>Walter Muller</td>\n      <td>Berlin</td>\n      <td>10709</td>\n      <td>998.00</td>\n    </tr>\n    <tr>\n      <th>250</th>\n      <td>10710</td>\n      <td>2022-12-29</td>\n      <td>Burgers</td>\n      <td>12.99</td>\n      <td>754</td>\n      <td>Drive-thru</td>\n      <td>Gift Card</td>\n      <td>Walter Muller</td>\n      <td>Berlin</td>\n      <td>10710</td>\n      <td>9794.46</td>\n    </tr>\n    <tr>\n      <th>251</th>\n      <td>10711</td>\n      <td>2022-12-29</td>\n      <td>Chicken Sandwiches</td>\n      <td>9.95</td>\n      <td>281</td>\n      <td>Drive-thru</td>\n      <td>Gift Card</td>\n      <td>Walter Muller</td>\n      <td>Berlin</td>\n      <td>10711</td>\n      <td>2795.95</td>\n    </tr>\n    <tr>\n      <th>252</th>\n      <td>10712</td>\n      <td>2022-12-29</td>\n      <td>Fries</td>\n      <td>3.49</td>\n      <td>630</td>\n      <td>Drive-thru</td>\n      <td>Gift Card</td>\n      <td>Walter Muller</td>\n      <td>Berlin</td>\n      <td>10712</td>\n      <td>2198.70</td>\n    </tr>\n    <tr>\n      <th>253</th>\n      <td>10713</td>\n      <td>2022-12-29</td>\n      <td>Beverages</td>\n      <td>2.95</td>\n      <td>678</td>\n      <td>Drive-thru</td>\n      <td>Gift Card</td>\n      <td>Walter Muller</td>\n      <td>Berlin</td>\n      <td>10713</td>\n      <td>2000.10</td>\n    </tr>\n  </tbody>\n</table>\n<p>254 rows × 11 columns</p>\n</div>"
          },
          "metadata": {}
        }
      ],
      "execution_count": 103
    },
    {
      "id": "429e4acb-872c-4163-bebf-137cec78bc24",
      "cell_type": "code",
      "source": "df.City.unique()",
      "metadata": {
        "trusted": true
      },
      "outputs": [
        {
          "execution_count": 104,
          "output_type": "execute_result",
          "data": {
            "text/plain": "array(['London', 'Madrid', 'Lisbon', 'Berlin', 'Paris'], dtype=object)"
          },
          "metadata": {}
        }
      ],
      "execution_count": 104
    },
    {
      "id": "e8275daf-f8ee-455d-99b2-e67a047805d0",
      "cell_type": "code",
      "source": "df.City.nunique()",
      "metadata": {
        "trusted": true
      },
      "outputs": [
        {
          "execution_count": 105,
          "output_type": "execute_result",
          "data": {
            "text/plain": "5"
          },
          "metadata": {}
        }
      ],
      "execution_count": 105
    },
    {
      "id": "584b2358-8f02-4ea8-92ad-8fcd12cc0333",
      "cell_type": "code",
      "source": "df.groupby('City')['Revenue'].sum().sort_values(ascending=False)",
      "metadata": {
        "trusted": true
      },
      "outputs": [
        {
          "execution_count": 106,
          "output_type": "execute_result",
          "data": {
            "text/plain": "City\nLisbon    241635.49\nLondon    211160.04\nMadrid    136154.24\nBerlin    100572.34\nParis      79777.33\nName: Revenue, dtype: float64"
          },
          "metadata": {}
        }
      ],
      "execution_count": 106
    },
    {
      "id": "5aee6ee5-7468-4203-9acf-5ee810470361",
      "cell_type": "code",
      "source": "df.Manager.nunique()",
      "metadata": {
        "trusted": true
      },
      "outputs": [
        {
          "execution_count": 108,
          "output_type": "execute_result",
          "data": {
            "text/plain": "12"
          },
          "metadata": {}
        }
      ],
      "execution_count": 108
    },
    {
      "id": "d815e22d-a0d6-4bf4-a9c9-69d71b1812ae",
      "cell_type": "code",
      "source": "df.Manager.unique()",
      "metadata": {
        "trusted": true
      },
      "outputs": [
        {
          "execution_count": 109,
          "output_type": "execute_result",
          "data": {
            "text/plain": "array(['Tom      Jackson', 'Pablo Perez', 'Joao    Silva',\n       'Walter Muller', 'Remy    Monet', 'Remy Monet', 'Remy     Monet',\n       'Pablo   Perez', 'Pablo  Perez', 'Pablo    Perez', 'Joao Silva',\n       'Tom Jackson'], dtype=object)"
          },
          "metadata": {}
        }
      ],
      "execution_count": 109
    },
    {
      "id": "1655d61b-e726-4af0-832b-f8a2d0b22f5f",
      "cell_type": "code",
      "source": "df.groupby('Manager')['Revenue'].sum().sort_values(ascending=False)",
      "metadata": {
        "trusted": true
      },
      "outputs": [
        {
          "execution_count": 110,
          "output_type": "execute_result",
          "data": {
            "text/plain": "Manager\nJoao Silva          225006.57\nTom Jackson         209160.27\nPablo Perez         130758.84\nWalter Muller       100572.34\nRemy Monet           76779.56\nJoao    Silva        16628.92\nPablo   Perez         2198.70\nPablo  Perez          2198.70\nRemy    Monet         1999.77\nTom      Jackson      1999.77\nPablo    Perez         998.00\nRemy     Monet         998.00\nName: Revenue, dtype: float64"
          },
          "metadata": {}
        }
      ],
      "execution_count": 110
    },
    {
      "id": "9b74a3a6-e58f-4e80-987a-abaa6fad64bc",
      "cell_type": "code",
      "source": "df.head()",
      "metadata": {
        "trusted": true
      },
      "outputs": [
        {
          "execution_count": 111,
          "output_type": "execute_result",
          "data": {
            "text/plain": "   Order ID       Date             Product  Price  Quantity Purchase Type  \\\n0     10452 2022-07-11               Fries   3.49       573       Online    \n1     10453 2022-07-11           Beverages   2.95       746       Online    \n2     10454 2022-07-11       Sides & Other   4.99       200     In-store    \n3     10455 2022-08-11             Burgers  12.99       570     In-store    \n4     10456 2022-08-11  Chicken Sandwiches   9.95       201     In-store    \n\n  Payment Method           Manager    City  order ID  Revenue  \n0      Gift Card  Tom      Jackson  London     10452  1999.77  \n1      Gift Card       Pablo Perez  Madrid     10453  2200.70  \n2      Gift Card     Joao    Silva  Lisbon     10454   998.00  \n3    Credit Card     Walter Muller  Berlin     10455  7404.30  \n4    Credit Card     Walter Muller  Berlin     10456  1999.95  ",
            "text/html": "<div>\n<style scoped>\n    .dataframe tbody tr th:only-of-type {\n        vertical-align: middle;\n    }\n\n    .dataframe tbody tr th {\n        vertical-align: top;\n    }\n\n    .dataframe thead th {\n        text-align: right;\n    }\n</style>\n<table border=\"1\" class=\"dataframe\">\n  <thead>\n    <tr style=\"text-align: right;\">\n      <th></th>\n      <th>Order ID</th>\n      <th>Date</th>\n      <th>Product</th>\n      <th>Price</th>\n      <th>Quantity</th>\n      <th>Purchase Type</th>\n      <th>Payment Method</th>\n      <th>Manager</th>\n      <th>City</th>\n      <th>order ID</th>\n      <th>Revenue</th>\n    </tr>\n  </thead>\n  <tbody>\n    <tr>\n      <th>0</th>\n      <td>10452</td>\n      <td>2022-07-11</td>\n      <td>Fries</td>\n      <td>3.49</td>\n      <td>573</td>\n      <td>Online</td>\n      <td>Gift Card</td>\n      <td>Tom      Jackson</td>\n      <td>London</td>\n      <td>10452</td>\n      <td>1999.77</td>\n    </tr>\n    <tr>\n      <th>1</th>\n      <td>10453</td>\n      <td>2022-07-11</td>\n      <td>Beverages</td>\n      <td>2.95</td>\n      <td>746</td>\n      <td>Online</td>\n      <td>Gift Card</td>\n      <td>Pablo Perez</td>\n      <td>Madrid</td>\n      <td>10453</td>\n      <td>2200.70</td>\n    </tr>\n    <tr>\n      <th>2</th>\n      <td>10454</td>\n      <td>2022-07-11</td>\n      <td>Sides &amp; Other</td>\n      <td>4.99</td>\n      <td>200</td>\n      <td>In-store</td>\n      <td>Gift Card</td>\n      <td>Joao    Silva</td>\n      <td>Lisbon</td>\n      <td>10454</td>\n      <td>998.00</td>\n    </tr>\n    <tr>\n      <th>3</th>\n      <td>10455</td>\n      <td>2022-08-11</td>\n      <td>Burgers</td>\n      <td>12.99</td>\n      <td>570</td>\n      <td>In-store</td>\n      <td>Credit Card</td>\n      <td>Walter Muller</td>\n      <td>Berlin</td>\n      <td>10455</td>\n      <td>7404.30</td>\n    </tr>\n    <tr>\n      <th>4</th>\n      <td>10456</td>\n      <td>2022-08-11</td>\n      <td>Chicken Sandwiches</td>\n      <td>9.95</td>\n      <td>201</td>\n      <td>In-store</td>\n      <td>Credit Card</td>\n      <td>Walter Muller</td>\n      <td>Berlin</td>\n      <td>10456</td>\n      <td>1999.95</td>\n    </tr>\n  </tbody>\n</table>\n</div>"
          },
          "metadata": {}
        }
      ],
      "execution_count": 111
    },
    {
      "id": "5c224ef5-7afc-448d-be4f-f57a75dbc4ec",
      "cell_type": "code",
      "source": "df.Date.dtype",
      "metadata": {
        "trusted": true
      },
      "outputs": [
        {
          "execution_count": 112,
          "output_type": "execute_result",
          "data": {
            "text/plain": "dtype('<M8[ns]')"
          },
          "metadata": {}
        }
      ],
      "execution_count": 112
    },
    {
      "id": "fe654606-179a-43a3-8bcc-0e46d933fc7b",
      "cell_type": "code",
      "source": "df.info()",
      "metadata": {
        "trusted": true
      },
      "outputs": [
        {
          "name": "stdout",
          "output_type": "stream",
          "text": "<class 'pandas.core.frame.DataFrame'>\nRangeIndex: 254 entries, 0 to 253\nData columns (total 11 columns):\n #   Column          Non-Null Count  Dtype         \n---  ------          --------------  -----         \n 0   Order ID        254 non-null    int64         \n 1   Date            254 non-null    datetime64[ns]\n 2   Product         254 non-null    object        \n 3   Price           254 non-null    float64       \n 4   Quantity        254 non-null    int32         \n 5   Purchase Type   254 non-null    object        \n 6   Payment Method  254 non-null    object        \n 7   Manager         254 non-null    object        \n 8   City            254 non-null    object        \n 9   order ID        254 non-null    int32         \n 10  Revenue         254 non-null    float64       \ndtypes: datetime64[ns](1), float64(2), int32(2), int64(1), object(5)\nmemory usage: 15.0+ KB\n"
        }
      ],
      "execution_count": 114
    },
    {
      "id": "42f7811b-07a9-4463-ad87-1511446f48cc",
      "cell_type": "code",
      "source": "df.plot('Date', 'Revenue', color='red', linewidth=2, figsize=(9,4))\nplt.title(\"Date wise Revenue\")                        # setting the title\nplt.xlabel(\"Date\")                                    # setting the x-axis label\nplt.ylabel(\"Revenue\")                                 # setting the y-axis label\nplt.show()",
      "metadata": {
        "trusted": true
      },
      "outputs": [
        {
          "output_type": "display_data",
          "data": {
            "text/plain": "<Figure size 900x400 with 1 Axes>",
            "image/png": "[encoded data removed]"
          },
          "metadata": {}
        }
      ],
      "execution_count": 116
    },
    {
      "id": "45d67d1e-f7c3-4305-ba2d-6ace897045d3",
      "cell_type": "code",
      "source": "df.head()",
      "metadata": {
        "trusted": true
      },
      "outputs": [
        {
          "execution_count": 117,
          "output_type": "execute_result",
          "data": {
            "text/plain": "   Order ID       Date             Product  Price  Quantity Purchase Type  \\\n0     10452 2022-07-11               Fries   3.49       573       Online    \n1     10453 2022-07-11           Beverages   2.95       746       Online    \n2     10454 2022-07-11       Sides & Other   4.99       200     In-store    \n3     10455 2022-08-11             Burgers  12.99       570     In-store    \n4     10456 2022-08-11  Chicken Sandwiches   9.95       201     In-store    \n\n  Payment Method           Manager    City  order ID  Revenue  \n0      Gift Card  Tom      Jackson  London     10452  1999.77  \n1      Gift Card       Pablo Perez  Madrid     10453  2200.70  \n2      Gift Card     Joao    Silva  Lisbon     10454   998.00  \n3    Credit Card     Walter Muller  Berlin     10455  7404.30  \n4    Credit Card     Walter Muller  Berlin     10456  1999.95  ",
            "text/html": "<div>\n<style scoped>\n    .dataframe tbody tr th:only-of-type {\n        vertical-align: middle;\n    }\n\n    .dataframe tbody tr th {\n        vertical-align: top;\n    }\n\n    .dataframe thead th {\n        text-align: right;\n    }\n</style>\n<table border=\"1\" class=\"dataframe\">\n  <thead>\n    <tr style=\"text-align: right;\">\n      <th></th>\n      <th>Order ID</th>\n      <th>Date</th>\n      <th>Product</th>\n      <th>Price</th>\n      <th>Quantity</th>\n      <th>Purchase Type</th>\n      <th>Payment Method</th>\n      <th>Manager</th>\n      <th>City</th>\n      <th>order ID</th>\n      <th>Revenue</th>\n    </tr>\n  </thead>\n  <tbody>\n    <tr>\n      <th>0</th>\n      <td>10452</td>\n      <td>2022-07-11</td>\n      <td>Fries</td>\n      <td>3.49</td>\n      <td>573</td>\n      <td>Online</td>\n      <td>Gift Card</td>\n      <td>Tom      Jackson</td>\n      <td>London</td>\n      <td>10452</td>\n      <td>1999.77</td>\n    </tr>\n    <tr>\n      <th>1</th>\n      <td>10453</td>\n      <td>2022-07-11</td>\n      <td>Beverages</td>\n      <td>2.95</td>\n      <td>746</td>\n      <td>Online</td>\n      <td>Gift Card</td>\n      <td>Pablo Perez</td>\n      <td>Madrid</td>\n      <td>10453</td>\n      <td>2200.70</td>\n    </tr>\n    <tr>\n      <th>2</th>\n      <td>10454</td>\n      <td>2022-07-11</td>\n      <td>Sides &amp; Other</td>\n      <td>4.99</td>\n      <td>200</td>\n      <td>In-store</td>\n      <td>Gift Card</td>\n      <td>Joao    Silva</td>\n      <td>Lisbon</td>\n      <td>10454</td>\n      <td>998.00</td>\n    </tr>\n    <tr>\n      <th>3</th>\n      <td>10455</td>\n      <td>2022-08-11</td>\n      <td>Burgers</td>\n      <td>12.99</td>\n      <td>570</td>\n      <td>In-store</td>\n      <td>Credit Card</td>\n      <td>Walter Muller</td>\n      <td>Berlin</td>\n      <td>10455</td>\n      <td>7404.30</td>\n    </tr>\n    <tr>\n      <th>4</th>\n      <td>10456</td>\n      <td>2022-08-11</td>\n      <td>Chicken Sandwiches</td>\n      <td>9.95</td>\n      <td>201</td>\n      <td>In-store</td>\n      <td>Credit Card</td>\n      <td>Walter Muller</td>\n      <td>Berlin</td>\n      <td>10456</td>\n      <td>1999.95</td>\n    </tr>\n  </tbody>\n</table>\n</div>"
          },
          "metadata": {}
        }
      ],
      "execution_count": 117
    },
    {
      "id": "cc6c1632-d908-4ce1-bc7e-e810a965e88f",
      "cell_type": "code",
      "source": "df['Revenue'].mean()",
      "metadata": {
        "trusted": true
      },
      "outputs": [
        {
          "execution_count": 118,
          "output_type": "execute_result",
          "data": {
            "text/plain": "np.float64(3028.737952755905)"
          },
          "metadata": {}
        }
      ],
      "execution_count": 118
    },
    {
      "id": "3b02e7a6-d634-43d6-8884-26f2bea07b83",
      "cell_type": "code",
      "source": "df.head()",
      "metadata": {
        "trusted": true
      },
      "outputs": [
        {
          "execution_count": 119,
          "output_type": "execute_result",
          "data": {
            "text/plain": "   Order ID       Date             Product  Price  Quantity Purchase Type  \\\n0     10452 2022-07-11               Fries   3.49       573       Online    \n1     10453 2022-07-11           Beverages   2.95       746       Online    \n2     10454 2022-07-11       Sides & Other   4.99       200     In-store    \n3     10455 2022-08-11             Burgers  12.99       570     In-store    \n4     10456 2022-08-11  Chicken Sandwiches   9.95       201     In-store    \n\n  Payment Method           Manager    City  order ID  Revenue  \n0      Gift Card  Tom      Jackson  London     10452  1999.77  \n1      Gift Card       Pablo Perez  Madrid     10453  2200.70  \n2      Gift Card     Joao    Silva  Lisbon     10454   998.00  \n3    Credit Card     Walter Muller  Berlin     10455  7404.30  \n4    Credit Card     Walter Muller  Berlin     10456  1999.95  ",
            "text/html": "<div>\n<style scoped>\n    .dataframe tbody tr th:only-of-type {\n        vertical-align: middle;\n    }\n\n    .dataframe tbody tr th {\n        vertical-align: top;\n    }\n\n    .dataframe thead th {\n        text-align: right;\n    }\n</style>\n<table border=\"1\" class=\"dataframe\">\n  <thead>\n    <tr style=\"text-align: right;\">\n      <th></th>\n      <th>Order ID</th>\n      <th>Date</th>\n      <th>Product</th>\n      <th>Price</th>\n      <th>Quantity</th>\n      <th>Purchase Type</th>\n      <th>Payment Method</th>\n      <th>Manager</th>\n      <th>City</th>\n      <th>order ID</th>\n      <th>Revenue</th>\n    </tr>\n  </thead>\n  <tbody>\n    <tr>\n      <th>0</th>\n      <td>10452</td>\n      <td>2022-07-11</td>\n      <td>Fries</td>\n      <td>3.49</td>\n      <td>573</td>\n      <td>Online</td>\n      <td>Gift Card</td>\n      <td>Tom      Jackson</td>\n      <td>London</td>\n      <td>10452</td>\n      <td>1999.77</td>\n    </tr>\n    <tr>\n      <th>1</th>\n      <td>10453</td>\n      <td>2022-07-11</td>\n      <td>Beverages</td>\n      <td>2.95</td>\n      <td>746</td>\n      <td>Online</td>\n      <td>Gift Card</td>\n      <td>Pablo Perez</td>\n      <td>Madrid</td>\n      <td>10453</td>\n      <td>2200.70</td>\n    </tr>\n    <tr>\n      <th>2</th>\n      <td>10454</td>\n      <td>2022-07-11</td>\n      <td>Sides &amp; Other</td>\n      <td>4.99</td>\n      <td>200</td>\n      <td>In-store</td>\n      <td>Gift Card</td>\n      <td>Joao    Silva</td>\n      <td>Lisbon</td>\n      <td>10454</td>\n      <td>998.00</td>\n    </tr>\n    <tr>\n      <th>3</th>\n      <td>10455</td>\n      <td>2022-08-11</td>\n      <td>Burgers</td>\n      <td>12.99</td>\n      <td>570</td>\n      <td>In-store</td>\n      <td>Credit Card</td>\n      <td>Walter Muller</td>\n      <td>Berlin</td>\n      <td>10455</td>\n      <td>7404.30</td>\n    </tr>\n    <tr>\n      <th>4</th>\n      <td>10456</td>\n      <td>2022-08-11</td>\n      <td>Chicken Sandwiches</td>\n      <td>9.95</td>\n      <td>201</td>\n      <td>In-store</td>\n      <td>Credit Card</td>\n      <td>Walter Muller</td>\n      <td>Berlin</td>\n      <td>10456</td>\n      <td>1999.95</td>\n    </tr>\n  </tbody>\n</table>\n</div>"
          },
          "metadata": {}
        }
      ],
      "execution_count": 119
    },
    {
      "id": "a0446a33-2401-46fe-a0d8-61575bebab71",
      "cell_type": "code",
      "source": "df['Month'] = df['Date'].dt.month",
      "metadata": {
        "trusted": true
      },
      "outputs": [],
      "execution_count": 121
    },
    {
      "id": "8882c693-2f9a-4878-a43c-ea989350f251",
      "cell_type": "code",
      "source": "df",
      "metadata": {
        "trusted": true
      },
      "outputs": [
        {
          "execution_count": 122,
          "output_type": "execute_result",
          "data": {
            "text/plain": "     Order ID       Date             Product  Price  Quantity Purchase Type  \\\n0       10452 2022-07-11               Fries   3.49       573       Online    \n1       10453 2022-07-11           Beverages   2.95       746       Online    \n2       10454 2022-07-11       Sides & Other   4.99       200     In-store    \n3       10455 2022-08-11             Burgers  12.99       570     In-store    \n4       10456 2022-08-11  Chicken Sandwiches   9.95       201     In-store    \n..        ...        ...                 ...    ...       ...           ...   \n249     10709 2022-12-28       Sides & Other   4.99       200   Drive-thru    \n250     10710 2022-12-29             Burgers  12.99       754   Drive-thru    \n251     10711 2022-12-29  Chicken Sandwiches   9.95       281   Drive-thru    \n252     10712 2022-12-29               Fries   3.49       630   Drive-thru    \n253     10713 2022-12-29           Beverages   2.95       678   Drive-thru    \n\n    Payment Method           Manager    City  order ID  Revenue  Month  \n0        Gift Card  Tom      Jackson  London     10452  1999.77      7  \n1        Gift Card       Pablo Perez  Madrid     10453  2200.70      7  \n2        Gift Card     Joao    Silva  Lisbon     10454   998.00      7  \n3      Credit Card     Walter Muller  Berlin     10455  7404.30      8  \n4      Credit Card     Walter Muller  Berlin     10456  1999.95      8  \n..             ...               ...     ...       ...      ...    ...  \n249      Gift Card     Walter Muller  Berlin     10709   998.00     12  \n250      Gift Card     Walter Muller  Berlin     10710  9794.46     12  \n251      Gift Card     Walter Muller  Berlin     10711  2795.95     12  \n252      Gift Card     Walter Muller  Berlin     10712  2198.70     12  \n253      Gift Card     Walter Muller  Berlin     10713  2000.10     12  \n\n[254 rows x 12 columns]",
            "text/html": "<div>\n<style scoped>\n    .dataframe tbody tr th:only-of-type {\n        vertical-align: middle;\n    }\n\n    .dataframe tbody tr th {\n        vertical-align: top;\n    }\n\n    .dataframe thead th {\n        text-align: right;\n    }\n</style>\n<table border=\"1\" class=\"dataframe\">\n  <thead>\n    <tr style=\"text-align: right;\">\n      <th></th>\n      <th>Order ID</th>\n      <th>Date</th>\n      <th>Product</th>\n      <th>Price</th>\n      <th>Quantity</th>\n      <th>Purchase Type</th>\n      <th>Payment Method</th>\n      <th>Manager</th>\n      <th>City</th>\n      <th>order ID</th>\n      <th>Revenue</th>\n      <th>Month</th>\n    </tr>\n  </thead>\n  <tbody>\n    <tr>\n      <th>0</th>\n      <td>10452</td>\n      <td>2022-07-11</td>\n      <td>Fries</td>\n      <td>3.49</td>\n      <td>573</td>\n      <td>Online</td>\n      <td>Gift Card</td>\n      <td>Tom      Jackson</td>\n      <td>London</td>\n      <td>10452</td>\n      <td>1999.77</td>\n      <td>7</td>\n    </tr>\n    <tr>\n      <th>1</th>\n      <td>10453</td>\n      <td>2022-07-11</td>\n      <td>Beverages</td>\n      <td>2.95</td>\n      <td>746</td>\n      <td>Online</td>\n      <td>Gift Card</td>\n      <td>Pablo Perez</td>\n      <td>Madrid</td>\n      <td>10453</td>\n      <td>2200.70</td>\n      <td>7</td>\n    </tr>\n    <tr>\n      <th>2</th>\n      <td>10454</td>\n      <td>2022-07-11</td>\n      <td>Sides &amp; Other</td>\n      <td>4.99</td>\n      <td>200</td>\n      <td>In-store</td>\n      <td>Gift Card</td>\n      <td>Joao    Silva</td>\n      <td>Lisbon</td>\n      <td>10454</td>\n      <td>998.00</td>\n      <td>7</td>\n    </tr>\n    <tr>\n      <th>3</th>\n      <td>10455</td>\n      <td>2022-08-11</td>\n      <td>Burgers</td>\n      <td>12.99</td>\n      <td>570</td>\n      <td>In-store</td>\n      <td>Credit Card</td>\n      <td>Walter Muller</td>\n      <td>Berlin</td>\n      <td>10455</td>\n      <td>7404.30</td>\n      <td>8</td>\n    </tr>\n    <tr>\n      <th>4</th>\n      <td>10456</td>\n      <td>2022-08-11</td>\n      <td>Chicken Sandwiches</td>\n      <td>9.95</td>\n      <td>201</td>\n      <td>In-store</td>\n      <td>Credit Card</td>\n      <td>Walter Muller</td>\n      <td>Berlin</td>\n      <td>10456</td>\n      <td>1999.95</td>\n      <td>8</td>\n    </tr>\n    <tr>\n      <th>...</th>\n      <td>...</td>\n      <td>...</td>\n      <td>...</td>\n      <td>...</td>\n      <td>...</td>\n      <td>...</td>\n      <td>...</td>\n      <td>...</td>\n      <td>...</td>\n      <td>...</td>\n      <td>...</td>\n      <td>...</td>\n    </tr>\n    <tr>\n      <th>249</th>\n      <td>10709</td>\n      <td>2022-12-28</td>\n      <td>Sides &amp; Other</td>\n      <td>4.99</td>\n      <td>200</td>\n      <td>Drive-thru</td>\n      <td>Gift Card</td>\n      <td>Walter Muller</td>\n      <td>Berlin</td>\n      <td>10709</td>\n      <td>998.00</td>\n      <td>12</td>\n    </tr>\n    <tr>\n      <th>250</th>\n      <td>10710</td>\n      <td>2022-12-29</td>\n      <td>Burgers</td>\n      <td>12.99</td>\n      <td>754</td>\n      <td>Drive-thru</td>\n      <td>Gift Card</td>\n      <td>Walter Muller</td>\n      <td>Berlin</td>\n      <td>10710</td>\n      <td>9794.46</td>\n      <td>12</td>\n    </tr>\n    <tr>\n      <th>251</th>\n      <td>10711</td>\n      <td>2022-12-29</td>\n      <td>Chicken Sandwiches</td>\n      <td>9.95</td>\n      <td>281</td>\n      <td>Drive-thru</td>\n      <td>Gift Card</td>\n      <td>Walter Muller</td>\n      <td>Berlin</td>\n      <td>10711</td>\n      <td>2795.95</td>\n      <td>12</td>\n    </tr>\n    <tr>\n      <th>252</th>\n      <td>10712</td>\n      <td>2022-12-29</td>\n      <td>Fries</td>\n      <td>3.49</td>\n      <td>630</td>\n      <td>Drive-thru</td>\n      <td>Gift Card</td>\n      <td>Walter Muller</td>\n      <td>Berlin</td>\n      <td>10712</td>\n      <td>2198.70</td>\n      <td>12</td>\n    </tr>\n    <tr>\n      <th>253</th>\n      <td>10713</td>\n      <td>2022-12-29</td>\n      <td>Beverages</td>\n      <td>2.95</td>\n      <td>678</td>\n      <td>Drive-thru</td>\n      <td>Gift Card</td>\n      <td>Walter Muller</td>\n      <td>Berlin</td>\n      <td>10713</td>\n      <td>2000.10</td>\n      <td>12</td>\n    </tr>\n  </tbody>\n</table>\n<p>254 rows × 12 columns</p>\n</div>"
          },
          "metadata": {}
        }
      ],
      "execution_count": 122
    },
    {
      "id": "80fc53fd-4177-4b97-9871-f9073b362196",
      "cell_type": "code",
      "source": "m11 = df[df['Month'] == 11]\nm11",
      "metadata": {
        "trusted": true
      },
      "outputs": [
        {
          "execution_count": 125,
          "output_type": "execute_result",
          "data": {
            "text/plain": "     Order ID       Date             Product  Price  Quantity Purchase Type  \\\n16      10470 2022-11-11             Burgers  12.99       554     In-store    \n17      10471 2022-11-11  Chicken Sandwiches   9.95       201     In-store    \n18      10472 2022-11-11               Fries   3.49       630     In-store    \n19      10473 2022-11-11           Beverages   2.95       678     In-store    \n20      10474 2022-11-11       Sides & Other   4.99       200     In-store    \n..        ...        ...                 ...    ...       ...           ...   \n160     10620 2022-11-12             Burgers  12.99       585       Online    \n161     10621 2022-11-12  Chicken Sandwiches   9.95       201       Online    \n162     10622 2022-11-12               Fries   3.49       630       Online    \n163     10623 2022-11-12           Beverages   2.95       746       Online    \n164     10624 2022-11-12       Sides & Other   4.99       200       Online    \n\n    Payment Method        Manager    City  order ID  Revenue  Month  \n16     Credit Card    Pablo Perez  Madrid     10470  7196.46     11  \n17     Credit Card    Pablo Perez  Madrid     10471  1999.95     11  \n18     Credit Card  Pablo   Perez  Madrid     10472  2198.70     11  \n19     Credit Card    Pablo Perez  Madrid     10473  2000.10     11  \n20     Credit Card    Pablo Perez  Madrid     10474   998.00     11  \n..             ...            ...     ...       ...      ...    ...  \n160      Gift Card    Tom Jackson  London     10620  7599.15     11  \n161      Gift Card    Tom Jackson  London     10621  1999.95     11  \n162      Gift Card    Tom Jackson  London     10622  2198.70     11  \n163      Gift Card    Tom Jackson  London     10623  2200.70     11  \n164      Gift Card    Tom Jackson  London     10624   998.00     11  \n\n[97 rows x 12 columns]",
            "text/html": "<div>\n<style scoped>\n    .dataframe tbody tr th:only-of-type {\n        vertical-align: middle;\n    }\n\n    .dataframe tbody tr th {\n        vertical-align: top;\n    }\n\n    .dataframe thead th {\n        text-align: right;\n    }\n</style>\n<table border=\"1\" class=\"dataframe\">\n  <thead>\n    <tr style=\"text-align: right;\">\n      <th></th>\n      <th>Order ID</th>\n      <th>Date</th>\n      <th>Product</th>\n      <th>Price</th>\n      <th>Quantity</th>\n      <th>Purchase Type</th>\n      <th>Payment Method</th>\n      <th>Manager</th>\n      <th>City</th>\n      <th>order ID</th>\n      <th>Revenue</th>\n      <th>Month</th>\n    </tr>\n  </thead>\n  <tbody>\n    <tr>\n      <th>16</th>\n      <td>10470</td>\n      <td>2022-11-11</td>\n      <td>Burgers</td>\n      <td>12.99</td>\n      <td>554</td>\n      <td>In-store</td>\n      <td>Credit Card</td>\n      <td>Pablo Perez</td>\n      <td>Madrid</td>\n      <td>10470</td>\n      <td>7196.46</td>\n      <td>11</td>\n    </tr>\n    <tr>\n      <th>17</th>\n      <td>10471</td>\n      <td>2022-11-11</td>\n      <td>Chicken Sandwiches</td>\n      <td>9.95</td>\n      <td>201</td>\n      <td>In-store</td>\n      <td>Credit Card</td>\n      <td>Pablo Perez</td>\n      <td>Madrid</td>\n      <td>10471</td>\n      <td>1999.95</td>\n      <td>11</td>\n    </tr>\n    <tr>\n      <th>18</th>\n      <td>10472</td>\n      <td>2022-11-11</td>\n      <td>Fries</td>\n      <td>3.49</td>\n      <td>630</td>\n      <td>In-store</td>\n      <td>Credit Card</td>\n      <td>Pablo   Perez</td>\n      <td>Madrid</td>\n      <td>10472</td>\n      <td>2198.70</td>\n      <td>11</td>\n    </tr>\n    <tr>\n      <th>19</th>\n      <td>10473</td>\n      <td>2022-11-11</td>\n      <td>Beverages</td>\n      <td>2.95</td>\n      <td>678</td>\n      <td>In-store</td>\n      <td>Credit Card</td>\n      <td>Pablo Perez</td>\n      <td>Madrid</td>\n      <td>10473</td>\n      <td>2000.10</td>\n      <td>11</td>\n    </tr>\n    <tr>\n      <th>20</th>\n      <td>10474</td>\n      <td>2022-11-11</td>\n      <td>Sides &amp; Other</td>\n      <td>4.99</td>\n      <td>200</td>\n      <td>In-store</td>\n      <td>Credit Card</td>\n      <td>Pablo Perez</td>\n      <td>Madrid</td>\n      <td>10474</td>\n      <td>998.00</td>\n      <td>11</td>\n    </tr>\n    <tr>\n      <th>...</th>\n      <td>...</td>\n      <td>...</td>\n      <td>...</td>\n      <td>...</td>\n      <td>...</td>\n      <td>...</td>\n      <td>...</td>\n      <td>...</td>\n      <td>...</td>\n      <td>...</td>\n      <td>...</td>\n      <td>...</td>\n    </tr>\n    <tr>\n      <th>160</th>\n      <td>10620</td>\n      <td>2022-11-12</td>\n      <td>Burgers</td>\n      <td>12.99</td>\n      <td>585</td>\n      <td>Online</td>\n      <td>Gift Card</td>\n      <td>Tom Jackson</td>\n      <td>London</td>\n      <td>10620</td>\n      <td>7599.15</td>\n      <td>11</td>\n    </tr>\n    <tr>\n      <th>161</th>\n      <td>10621</td>\n      <td>2022-11-12</td>\n      <td>Chicken Sandwiches</td>\n      <td>9.95</td>\n      <td>201</td>\n      <td>Online</td>\n      <td>Gift Card</td>\n      <td>Tom Jackson</td>\n      <td>London</td>\n      <td>10621</td>\n      <td>1999.95</td>\n      <td>11</td>\n    </tr>\n    <tr>\n      <th>162</th>\n      <td>10622</td>\n      <td>2022-11-12</td>\n      <td>Fries</td>\n      <td>3.49</td>\n      <td>630</td>\n      <td>Online</td>\n      <td>Gift Card</td>\n      <td>Tom Jackson</td>\n      <td>London</td>\n      <td>10622</td>\n      <td>2198.70</td>\n      <td>11</td>\n    </tr>\n    <tr>\n      <th>163</th>\n      <td>10623</td>\n      <td>2022-11-12</td>\n      <td>Beverages</td>\n      <td>2.95</td>\n      <td>746</td>\n      <td>Online</td>\n      <td>Gift Card</td>\n      <td>Tom Jackson</td>\n      <td>London</td>\n      <td>10623</td>\n      <td>2200.70</td>\n      <td>11</td>\n    </tr>\n    <tr>\n      <th>164</th>\n      <td>10624</td>\n      <td>2022-11-12</td>\n      <td>Sides &amp; Other</td>\n      <td>4.99</td>\n      <td>200</td>\n      <td>Online</td>\n      <td>Gift Card</td>\n      <td>Tom Jackson</td>\n      <td>London</td>\n      <td>10624</td>\n      <td>998.00</td>\n      <td>11</td>\n    </tr>\n  </tbody>\n</table>\n<p>97 rows × 12 columns</p>\n</div>"
          },
          "metadata": {}
        }
      ],
      "execution_count": 125
    },
    {
      "id": "809bb860-2d27-4c13-badc-88bf993e9ca1",
      "cell_type": "code",
      "source": "m11.Revenue.mean()",
      "metadata": {
        "trusted": true
      },
      "outputs": [
        {
          "execution_count": 126,
          "output_type": "execute_result",
          "data": {
            "text/plain": "np.float64(2969.3819587628864)"
          },
          "metadata": {}
        }
      ],
      "execution_count": 126
    },
    {
      "id": "4f6c7dea-fcdb-46c2-926c-8f580fab1512",
      "cell_type": "code",
      "source": "m12 = df[df.Month == 12]\nm12",
      "metadata": {
        "trusted": true
      },
      "outputs": [
        {
          "execution_count": 127,
          "output_type": "execute_result",
          "data": {
            "text/plain": "     Order ID       Date             Product  Price  Quantity Purchase Type  \\\n21      10475 2022-12-11             Burgers  12.99       523     In-store    \n22      10476 2022-12-11  Chicken Sandwiches   9.95       201     In-store    \n23      10477 2022-12-11               Fries   3.49       630     In-store    \n24      10478 2022-12-11           Beverages   2.95       678     In-store    \n25      10479 2022-12-11       Sides & Other   4.99       200     In-store    \n..        ...        ...                 ...    ...       ...           ...   \n249     10709 2022-12-28       Sides & Other   4.99       200   Drive-thru    \n250     10710 2022-12-29             Burgers  12.99       754   Drive-thru    \n251     10711 2022-12-29  Chicken Sandwiches   9.95       281   Drive-thru    \n252     10712 2022-12-29               Fries   3.49       630   Drive-thru    \n253     10713 2022-12-29           Beverages   2.95       678   Drive-thru    \n\n    Payment Method         Manager    City  order ID  Revenue  Month  \n21     Credit Card     Pablo Perez  Madrid     10475  6793.77     12  \n22     Credit Card     Pablo Perez  Madrid     10476  1999.95     12  \n23     Credit Card    Pablo  Perez  Madrid     10477  2198.70     12  \n24     Credit Card     Pablo Perez  Madrid     10478  2000.10     12  \n25     Credit Card  Pablo    Perez  Madrid     10479   998.00     12  \n..             ...             ...     ...       ...      ...    ...  \n249      Gift Card   Walter Muller  Berlin     10709   998.00     12  \n250      Gift Card   Walter Muller  Berlin     10710  9794.46     12  \n251      Gift Card   Walter Muller  Berlin     10711  2795.95     12  \n252      Gift Card   Walter Muller  Berlin     10712  2198.70     12  \n253      Gift Card   Walter Muller  Berlin     10713  2000.10     12  \n\n[94 rows x 12 columns]",
            "text/html": "<div>\n<style scoped>\n    .dataframe tbody tr th:only-of-type {\n        vertical-align: middle;\n    }\n\n    .dataframe tbody tr th {\n        vertical-align: top;\n    }\n\n    .dataframe thead th {\n        text-align: right;\n    }\n</style>\n<table border=\"1\" class=\"dataframe\">\n  <thead>\n    <tr style=\"text-align: right;\">\n      <th></th>\n      <th>Order ID</th>\n      <th>Date</th>\n      <th>Product</th>\n      <th>Price</th>\n      <th>Quantity</th>\n      <th>Purchase Type</th>\n      <th>Payment Method</th>\n      <th>Manager</th>\n      <th>City</th>\n      <th>order ID</th>\n      <th>Revenue</th>\n      <th>Month</th>\n    </tr>\n  </thead>\n  <tbody>\n    <tr>\n      <th>21</th>\n      <td>10475</td>\n      <td>2022-12-11</td>\n      <td>Burgers</td>\n      <td>12.99</td>\n      <td>523</td>\n      <td>In-store</td>\n      <td>Credit Card</td>\n      <td>Pablo Perez</td>\n      <td>Madrid</td>\n      <td>10475</td>\n      <td>6793.77</td>\n      <td>12</td>\n    </tr>\n    <tr>\n      <th>22</th>\n      <td>10476</td>\n      <td>2022-12-11</td>\n      <td>Chicken Sandwiches</td>\n      <td>9.95</td>\n      <td>201</td>\n      <td>In-store</td>\n      <td>Credit Card</td>\n      <td>Pablo Perez</td>\n      <td>Madrid</td>\n      <td>10476</td>\n      <td>1999.95</td>\n      <td>12</td>\n    </tr>\n    <tr>\n      <th>23</th>\n      <td>10477</td>\n      <td>2022-12-11</td>\n      <td>Fries</td>\n      <td>3.49</td>\n      <td>630</td>\n      <td>In-store</td>\n      <td>Credit Card</td>\n      <td>Pablo  Perez</td>\n      <td>Madrid</td>\n      <td>10477</td>\n      <td>2198.70</td>\n      <td>12</td>\n    </tr>\n    <tr>\n      <th>24</th>\n      <td>10478</td>\n      <td>2022-12-11</td>\n      <td>Beverages</td>\n      <td>2.95</td>\n      <td>678</td>\n      <td>In-store</td>\n      <td>Credit Card</td>\n      <td>Pablo Perez</td>\n      <td>Madrid</td>\n      <td>10478</td>\n      <td>2000.10</td>\n      <td>12</td>\n    </tr>\n    <tr>\n      <th>25</th>\n      <td>10479</td>\n      <td>2022-12-11</td>\n      <td>Sides &amp; Other</td>\n      <td>4.99</td>\n      <td>200</td>\n      <td>In-store</td>\n      <td>Credit Card</td>\n      <td>Pablo    Perez</td>\n      <td>Madrid</td>\n      <td>10479</td>\n      <td>998.00</td>\n      <td>12</td>\n    </tr>\n    <tr>\n      <th>...</th>\n      <td>...</td>\n      <td>...</td>\n      <td>...</td>\n      <td>...</td>\n      <td>...</td>\n      <td>...</td>\n      <td>...</td>\n      <td>...</td>\n      <td>...</td>\n      <td>...</td>\n      <td>...</td>\n      <td>...</td>\n    </tr>\n    <tr>\n      <th>249</th>\n      <td>10709</td>\n      <td>2022-12-28</td>\n      <td>Sides &amp; Other</td>\n      <td>4.99</td>\n      <td>200</td>\n      <td>Drive-thru</td>\n      <td>Gift Card</td>\n      <td>Walter Muller</td>\n      <td>Berlin</td>\n      <td>10709</td>\n      <td>998.00</td>\n      <td>12</td>\n    </tr>\n    <tr>\n      <th>250</th>\n      <td>10710</td>\n      <td>2022-12-29</td>\n      <td>Burgers</td>\n      <td>12.99</td>\n      <td>754</td>\n      <td>Drive-thru</td>\n      <td>Gift Card</td>\n      <td>Walter Muller</td>\n      <td>Berlin</td>\n      <td>10710</td>\n      <td>9794.46</td>\n      <td>12</td>\n    </tr>\n    <tr>\n      <th>251</th>\n      <td>10711</td>\n      <td>2022-12-29</td>\n      <td>Chicken Sandwiches</td>\n      <td>9.95</td>\n      <td>281</td>\n      <td>Drive-thru</td>\n      <td>Gift Card</td>\n      <td>Walter Muller</td>\n      <td>Berlin</td>\n      <td>10711</td>\n      <td>2795.95</td>\n      <td>12</td>\n    </tr>\n    <tr>\n      <th>252</th>\n      <td>10712</td>\n      <td>2022-12-29</td>\n      <td>Fries</td>\n      <td>3.49</td>\n      <td>630</td>\n      <td>Drive-thru</td>\n      <td>Gift Card</td>\n      <td>Walter Muller</td>\n      <td>Berlin</td>\n      <td>10712</td>\n      <td>2198.70</td>\n      <td>12</td>\n    </tr>\n    <tr>\n      <th>253</th>\n      <td>10713</td>\n      <td>2022-12-29</td>\n      <td>Beverages</td>\n      <td>2.95</td>\n      <td>678</td>\n      <td>Drive-thru</td>\n      <td>Gift Card</td>\n      <td>Walter Muller</td>\n      <td>Berlin</td>\n      <td>10713</td>\n      <td>2000.10</td>\n      <td>12</td>\n    </tr>\n  </tbody>\n</table>\n<p>94 rows × 12 columns</p>\n</div>"
          },
          "metadata": {}
        }
      ],
      "execution_count": 127
    },
    {
      "id": "578494df-9343-43e3-bb9e-b0f2235c47a4",
      "cell_type": "code",
      "source": "m12.Revenue.mean()",
      "metadata": {
        "trusted": true
      },
      "outputs": [
        {
          "execution_count": 128,
          "output_type": "execute_result",
          "data": {
            "text/plain": "np.float64(3194.7782978723403)"
          },
          "metadata": {}
        }
      ],
      "execution_count": 128
    },
    {
      "id": "13b0e449-8318-46d5-82b9-09061fe0fc23",
      "cell_type": "code",
      "source": "df['Quantity'].std()",
      "metadata": {
        "trusted": true
      },
      "outputs": [
        {
          "execution_count": 129,
          "output_type": "execute_result",
          "data": {
            "text/plain": "np.float64(214.9794309636385)"
          },
          "metadata": {}
        }
      ],
      "execution_count": 129
    },
    {
      "id": "b46fe067-e8fb-42d5-a060-4830e72d8f3a",
      "cell_type": "code",
      "source": "df['Revenue'].std()",
      "metadata": {
        "trusted": true
      },
      "outputs": [
        {
          "execution_count": 130,
          "output_type": "execute_result",
          "data": {
            "text/plain": "np.float64(2419.9325462715055)"
          },
          "metadata": {}
        }
      ],
      "execution_count": 130
    },
    {
      "id": "7240bfa1-dfe5-4c85-acb0-9d8ecf8f8732",
      "cell_type": "code",
      "source": "df['Quantity'].var()",
      "metadata": {
        "trusted": true
      },
      "outputs": [
        {
          "execution_count": 131,
          "output_type": "execute_result",
          "data": {
            "text/plain": "np.float64(46216.15573744981)"
          },
          "metadata": {}
        }
      ],
      "execution_count": 131
    },
    {
      "id": "34967ce9-f11a-4ebf-808c-401d66b73756",
      "cell_type": "code",
      "source": "df['Revenue'].var()",
      "metadata": {
        "trusted": true
      },
      "outputs": [
        {
          "execution_count": 132,
          "output_type": "execute_result",
          "data": {
            "text/plain": "np.float64(5856073.528504091)"
          },
          "metadata": {}
        }
      ],
      "execution_count": 132
    },
    {
      "id": "0b8e0b73-b958-4538-ace2-5ce9ac30f4d6",
      "cell_type": "code",
      "source": "df.head()",
      "metadata": {
        "trusted": true
      },
      "outputs": [
        {
          "execution_count": 133,
          "output_type": "execute_result",
          "data": {
            "text/plain": "   Order ID       Date             Product  Price  Quantity Purchase Type  \\\n0     10452 2022-07-11               Fries   3.49       573       Online    \n1     10453 2022-07-11           Beverages   2.95       746       Online    \n2     10454 2022-07-11       Sides & Other   4.99       200     In-store    \n3     10455 2022-08-11             Burgers  12.99       570     In-store    \n4     10456 2022-08-11  Chicken Sandwiches   9.95       201     In-store    \n\n  Payment Method           Manager    City  order ID  Revenue  Month  \n0      Gift Card  Tom      Jackson  London     10452  1999.77      7  \n1      Gift Card       Pablo Perez  Madrid     10453  2200.70      7  \n2      Gift Card     Joao    Silva  Lisbon     10454   998.00      7  \n3    Credit Card     Walter Muller  Berlin     10455  7404.30      8  \n4    Credit Card     Walter Muller  Berlin     10456  1999.95      8  ",
            "text/html": "<div>\n<style scoped>\n    .dataframe tbody tr th:only-of-type {\n        vertical-align: middle;\n    }\n\n    .dataframe tbody tr th {\n        vertical-align: top;\n    }\n\n    .dataframe thead th {\n        text-align: right;\n    }\n</style>\n<table border=\"1\" class=\"dataframe\">\n  <thead>\n    <tr style=\"text-align: right;\">\n      <th></th>\n      <th>Order ID</th>\n      <th>Date</th>\n      <th>Product</th>\n      <th>Price</th>\n      <th>Quantity</th>\n      <th>Purchase Type</th>\n      <th>Payment Method</th>\n      <th>Manager</th>\n      <th>City</th>\n      <th>order ID</th>\n      <th>Revenue</th>\n      <th>Month</th>\n    </tr>\n  </thead>\n  <tbody>\n    <tr>\n      <th>0</th>\n      <td>10452</td>\n      <td>2022-07-11</td>\n      <td>Fries</td>\n      <td>3.49</td>\n      <td>573</td>\n      <td>Online</td>\n      <td>Gift Card</td>\n      <td>Tom      Jackson</td>\n      <td>London</td>\n      <td>10452</td>\n      <td>1999.77</td>\n      <td>7</td>\n    </tr>\n    <tr>\n      <th>1</th>\n      <td>10453</td>\n      <td>2022-07-11</td>\n      <td>Beverages</td>\n      <td>2.95</td>\n      <td>746</td>\n      <td>Online</td>\n      <td>Gift Card</td>\n      <td>Pablo Perez</td>\n      <td>Madrid</td>\n      <td>10453</td>\n      <td>2200.70</td>\n      <td>7</td>\n    </tr>\n    <tr>\n      <th>2</th>\n      <td>10454</td>\n      <td>2022-07-11</td>\n      <td>Sides &amp; Other</td>\n      <td>4.99</td>\n      <td>200</td>\n      <td>In-store</td>\n      <td>Gift Card</td>\n      <td>Joao    Silva</td>\n      <td>Lisbon</td>\n      <td>10454</td>\n      <td>998.00</td>\n      <td>7</td>\n    </tr>\n    <tr>\n      <th>3</th>\n      <td>10455</td>\n      <td>2022-08-11</td>\n      <td>Burgers</td>\n      <td>12.99</td>\n      <td>570</td>\n      <td>In-store</td>\n      <td>Credit Card</td>\n      <td>Walter Muller</td>\n      <td>Berlin</td>\n      <td>10455</td>\n      <td>7404.30</td>\n      <td>8</td>\n    </tr>\n    <tr>\n      <th>4</th>\n      <td>10456</td>\n      <td>2022-08-11</td>\n      <td>Chicken Sandwiches</td>\n      <td>9.95</td>\n      <td>201</td>\n      <td>In-store</td>\n      <td>Credit Card</td>\n      <td>Walter Muller</td>\n      <td>Berlin</td>\n      <td>10456</td>\n      <td>1999.95</td>\n      <td>8</td>\n    </tr>\n  </tbody>\n</table>\n</div>"
          },
          "metadata": {}
        }
      ],
      "execution_count": 133
    },
    {
      "id": "a51e5873-34b9-45bf-9700-fc95a6adfe1a",
      "cell_type": "code",
      "source": "m11 = df[df['Month'] == 11]\nm11",
      "metadata": {
        "trusted": true
      },
      "outputs": [
        {
          "execution_count": 134,
          "output_type": "execute_result",
          "data": {
            "text/plain": "     Order ID       Date             Product  Price  Quantity Purchase Type  \\\n16      10470 2022-11-11             Burgers  12.99       554     In-store    \n17      10471 2022-11-11  Chicken Sandwiches   9.95       201     In-store    \n18      10472 2022-11-11               Fries   3.49       630     In-store    \n19      10473 2022-11-11           Beverages   2.95       678     In-store    \n20      10474 2022-11-11       Sides & Other   4.99       200     In-store    \n..        ...        ...                 ...    ...       ...           ...   \n160     10620 2022-11-12             Burgers  12.99       585       Online    \n161     10621 2022-11-12  Chicken Sandwiches   9.95       201       Online    \n162     10622 2022-11-12               Fries   3.49       630       Online    \n163     10623 2022-11-12           Beverages   2.95       746       Online    \n164     10624 2022-11-12       Sides & Other   4.99       200       Online    \n\n    Payment Method        Manager    City  order ID  Revenue  Month  \n16     Credit Card    Pablo Perez  Madrid     10470  7196.46     11  \n17     Credit Card    Pablo Perez  Madrid     10471  1999.95     11  \n18     Credit Card  Pablo   Perez  Madrid     10472  2198.70     11  \n19     Credit Card    Pablo Perez  Madrid     10473  2000.10     11  \n20     Credit Card    Pablo Perez  Madrid     10474   998.00     11  \n..             ...            ...     ...       ...      ...    ...  \n160      Gift Card    Tom Jackson  London     10620  7599.15     11  \n161      Gift Card    Tom Jackson  London     10621  1999.95     11  \n162      Gift Card    Tom Jackson  London     10622  2198.70     11  \n163      Gift Card    Tom Jackson  London     10623  2200.70     11  \n164      Gift Card    Tom Jackson  London     10624   998.00     11  \n\n[97 rows x 12 columns]",
            "text/html": "<div>\n<style scoped>\n    .dataframe tbody tr th:only-of-type {\n        vertical-align: middle;\n    }\n\n    .dataframe tbody tr th {\n        vertical-align: top;\n    }\n\n    .dataframe thead th {\n        text-align: right;\n    }\n</style>\n<table border=\"1\" class=\"dataframe\">\n  <thead>\n    <tr style=\"text-align: right;\">\n      <th></th>\n      <th>Order ID</th>\n      <th>Date</th>\n      <th>Product</th>\n      <th>Price</th>\n      <th>Quantity</th>\n      <th>Purchase Type</th>\n      <th>Payment Method</th>\n      <th>Manager</th>\n      <th>City</th>\n      <th>order ID</th>\n      <th>Revenue</th>\n      <th>Month</th>\n    </tr>\n  </thead>\n  <tbody>\n    <tr>\n      <th>16</th>\n      <td>10470</td>\n      <td>2022-11-11</td>\n      <td>Burgers</td>\n      <td>12.99</td>\n      <td>554</td>\n      <td>In-store</td>\n      <td>Credit Card</td>\n      <td>Pablo Perez</td>\n      <td>Madrid</td>\n      <td>10470</td>\n      <td>7196.46</td>\n      <td>11</td>\n    </tr>\n    <tr>\n      <th>17</th>\n      <td>10471</td>\n      <td>2022-11-11</td>\n      <td>Chicken Sandwiches</td>\n      <td>9.95</td>\n      <td>201</td>\n      <td>In-store</td>\n      <td>Credit Card</td>\n      <td>Pablo Perez</td>\n      <td>Madrid</td>\n      <td>10471</td>\n      <td>1999.95</td>\n      <td>11</td>\n    </tr>\n    <tr>\n      <th>18</th>\n      <td>10472</td>\n      <td>2022-11-11</td>\n      <td>Fries</td>\n      <td>3.49</td>\n      <td>630</td>\n      <td>In-store</td>\n      <td>Credit Card</td>\n      <td>Pablo   Perez</td>\n      <td>Madrid</td>\n      <td>10472</td>\n      <td>2198.70</td>\n      <td>11</td>\n    </tr>\n    <tr>\n      <th>19</th>\n      <td>10473</td>\n      <td>2022-11-11</td>\n      <td>Beverages</td>\n      <td>2.95</td>\n      <td>678</td>\n      <td>In-store</td>\n      <td>Credit Card</td>\n      <td>Pablo Perez</td>\n      <td>Madrid</td>\n      <td>10473</td>\n      <td>2000.10</td>\n      <td>11</td>\n    </tr>\n    <tr>\n      <th>20</th>\n      <td>10474</td>\n      <td>2022-11-11</td>\n      <td>Sides &amp; Other</td>\n      <td>4.99</td>\n      <td>200</td>\n      <td>In-store</td>\n      <td>Credit Card</td>\n      <td>Pablo Perez</td>\n      <td>Madrid</td>\n      <td>10474</td>\n      <td>998.00</td>\n      <td>11</td>\n    </tr>\n    <tr>\n      <th>...</th>\n      <td>...</td>\n      <td>...</td>\n      <td>...</td>\n      <td>...</td>\n      <td>...</td>\n      <td>...</td>\n      <td>...</td>\n      <td>...</td>\n      <td>...</td>\n      <td>...</td>\n      <td>...</td>\n      <td>...</td>\n    </tr>\n    <tr>\n      <th>160</th>\n      <td>10620</td>\n      <td>2022-11-12</td>\n      <td>Burgers</td>\n      <td>12.99</td>\n      <td>585</td>\n      <td>Online</td>\n      <td>Gift Card</td>\n      <td>Tom Jackson</td>\n      <td>London</td>\n      <td>10620</td>\n      <td>7599.15</td>\n      <td>11</td>\n    </tr>\n    <tr>\n      <th>161</th>\n      <td>10621</td>\n      <td>2022-11-12</td>\n      <td>Chicken Sandwiches</td>\n      <td>9.95</td>\n      <td>201</td>\n      <td>Online</td>\n      <td>Gift Card</td>\n      <td>Tom Jackson</td>\n      <td>London</td>\n      <td>10621</td>\n      <td>1999.95</td>\n      <td>11</td>\n    </tr>\n    <tr>\n      <th>162</th>\n      <td>10622</td>\n      <td>2022-11-12</td>\n      <td>Fries</td>\n      <td>3.49</td>\n      <td>630</td>\n      <td>Online</td>\n      <td>Gift Card</td>\n      <td>Tom Jackson</td>\n      <td>London</td>\n      <td>10622</td>\n      <td>2198.70</td>\n      <td>11</td>\n    </tr>\n    <tr>\n      <th>163</th>\n      <td>10623</td>\n      <td>2022-11-12</td>\n      <td>Beverages</td>\n      <td>2.95</td>\n      <td>746</td>\n      <td>Online</td>\n      <td>Gift Card</td>\n      <td>Tom Jackson</td>\n      <td>London</td>\n      <td>10623</td>\n      <td>2200.70</td>\n      <td>11</td>\n    </tr>\n    <tr>\n      <th>164</th>\n      <td>10624</td>\n      <td>2022-11-12</td>\n      <td>Sides &amp; Other</td>\n      <td>4.99</td>\n      <td>200</td>\n      <td>Online</td>\n      <td>Gift Card</td>\n      <td>Tom Jackson</td>\n      <td>London</td>\n      <td>10624</td>\n      <td>998.00</td>\n      <td>11</td>\n    </tr>\n  </tbody>\n</table>\n<p>97 rows × 12 columns</p>\n</div>"
          },
          "metadata": {}
        }
      ],
      "execution_count": 134
    },
    {
      "id": "d6997dc8-751a-44f0-9f45-98fdbcebc93a",
      "cell_type": "code",
      "source": "m11['Revenue'].sum()",
      "metadata": {
        "trusted": true
      },
      "outputs": [
        {
          "execution_count": 135,
          "output_type": "execute_result",
          "data": {
            "text/plain": "np.float64(288030.05)"
          },
          "metadata": {}
        }
      ],
      "execution_count": 135
    },
    {
      "id": "68f36ecc-32a4-45e5-b89b-fd73faa78a69",
      "cell_type": "code",
      "source": "m12 = df[df.Month == 12]\nm12",
      "metadata": {
        "trusted": true
      },
      "outputs": [
        {
          "execution_count": 136,
          "output_type": "execute_result",
          "data": {
            "text/plain": "     Order ID       Date             Product  Price  Quantity Purchase Type  \\\n21      10475 2022-12-11             Burgers  12.99       523     In-store    \n22      10476 2022-12-11  Chicken Sandwiches   9.95       201     In-store    \n23      10477 2022-12-11               Fries   3.49       630     In-store    \n24      10478 2022-12-11           Beverages   2.95       678     In-store    \n25      10479 2022-12-11       Sides & Other   4.99       200     In-store    \n..        ...        ...                 ...    ...       ...           ...   \n249     10709 2022-12-28       Sides & Other   4.99       200   Drive-thru    \n250     10710 2022-12-29             Burgers  12.99       754   Drive-thru    \n251     10711 2022-12-29  Chicken Sandwiches   9.95       281   Drive-thru    \n252     10712 2022-12-29               Fries   3.49       630   Drive-thru    \n253     10713 2022-12-29           Beverages   2.95       678   Drive-thru    \n\n    Payment Method         Manager    City  order ID  Revenue  Month  \n21     Credit Card     Pablo Perez  Madrid     10475  6793.77     12  \n22     Credit Card     Pablo Perez  Madrid     10476  1999.95     12  \n23     Credit Card    Pablo  Perez  Madrid     10477  2198.70     12  \n24     Credit Card     Pablo Perez  Madrid     10478  2000.10     12  \n25     Credit Card  Pablo    Perez  Madrid     10479   998.00     12  \n..             ...             ...     ...       ...      ...    ...  \n249      Gift Card   Walter Muller  Berlin     10709   998.00     12  \n250      Gift Card   Walter Muller  Berlin     10710  9794.46     12  \n251      Gift Card   Walter Muller  Berlin     10711  2795.95     12  \n252      Gift Card   Walter Muller  Berlin     10712  2198.70     12  \n253      Gift Card   Walter Muller  Berlin     10713  2000.10     12  \n\n[94 rows x 12 columns]",
            "text/html": "<div>\n<style scoped>\n    .dataframe tbody tr th:only-of-type {\n        vertical-align: middle;\n    }\n\n    .dataframe tbody tr th {\n        vertical-align: top;\n    }\n\n    .dataframe thead th {\n        text-align: right;\n    }\n</style>\n<table border=\"1\" class=\"dataframe\">\n  <thead>\n    <tr style=\"text-align: right;\">\n      <th></th>\n      <th>Order ID</th>\n      <th>Date</th>\n      <th>Product</th>\n      <th>Price</th>\n      <th>Quantity</th>\n      <th>Purchase Type</th>\n      <th>Payment Method</th>\n      <th>Manager</th>\n      <th>City</th>\n      <th>order ID</th>\n      <th>Revenue</th>\n      <th>Month</th>\n    </tr>\n  </thead>\n  <tbody>\n    <tr>\n      <th>21</th>\n      <td>10475</td>\n      <td>2022-12-11</td>\n      <td>Burgers</td>\n      <td>12.99</td>\n      <td>523</td>\n      <td>In-store</td>\n      <td>Credit Card</td>\n      <td>Pablo Perez</td>\n      <td>Madrid</td>\n      <td>10475</td>\n      <td>6793.77</td>\n      <td>12</td>\n    </tr>\n    <tr>\n      <th>22</th>\n      <td>10476</td>\n      <td>2022-12-11</td>\n      <td>Chicken Sandwiches</td>\n      <td>9.95</td>\n      <td>201</td>\n      <td>In-store</td>\n      <td>Credit Card</td>\n      <td>Pablo Perez</td>\n      <td>Madrid</td>\n      <td>10476</td>\n      <td>1999.95</td>\n      <td>12</td>\n    </tr>\n    <tr>\n      <th>23</th>\n      <td>10477</td>\n      <td>2022-12-11</td>\n      <td>Fries</td>\n      <td>3.49</td>\n      <td>630</td>\n      <td>In-store</td>\n      <td>Credit Card</td>\n      <td>Pablo  Perez</td>\n      <td>Madrid</td>\n      <td>10477</td>\n      <td>2198.70</td>\n      <td>12</td>\n    </tr>\n    <tr>\n      <th>24</th>\n      <td>10478</td>\n      <td>2022-12-11</td>\n      <td>Beverages</td>\n      <td>2.95</td>\n      <td>678</td>\n      <td>In-store</td>\n      <td>Credit Card</td>\n      <td>Pablo Perez</td>\n      <td>Madrid</td>\n      <td>10478</td>\n      <td>2000.10</td>\n      <td>12</td>\n    </tr>\n    <tr>\n      <th>25</th>\n      <td>10479</td>\n      <td>2022-12-11</td>\n      <td>Sides &amp; Other</td>\n      <td>4.99</td>\n      <td>200</td>\n      <td>In-store</td>\n      <td>Credit Card</td>\n      <td>Pablo    Perez</td>\n      <td>Madrid</td>\n      <td>10479</td>\n      <td>998.00</td>\n      <td>12</td>\n    </tr>\n    <tr>\n      <th>...</th>\n      <td>...</td>\n      <td>...</td>\n      <td>...</td>\n      <td>...</td>\n      <td>...</td>\n      <td>...</td>\n      <td>...</td>\n      <td>...</td>\n      <td>...</td>\n      <td>...</td>\n      <td>...</td>\n      <td>...</td>\n    </tr>\n    <tr>\n      <th>249</th>\n      <td>10709</td>\n      <td>2022-12-28</td>\n      <td>Sides &amp; Other</td>\n      <td>4.99</td>\n      <td>200</td>\n      <td>Drive-thru</td>\n      <td>Gift Card</td>\n      <td>Walter Muller</td>\n      <td>Berlin</td>\n      <td>10709</td>\n      <td>998.00</td>\n      <td>12</td>\n    </tr>\n    <tr>\n      <th>250</th>\n      <td>10710</td>\n      <td>2022-12-29</td>\n      <td>Burgers</td>\n      <td>12.99</td>\n      <td>754</td>\n      <td>Drive-thru</td>\n      <td>Gift Card</td>\n      <td>Walter Muller</td>\n      <td>Berlin</td>\n      <td>10710</td>\n      <td>9794.46</td>\n      <td>12</td>\n    </tr>\n    <tr>\n      <th>251</th>\n      <td>10711</td>\n      <td>2022-12-29</td>\n      <td>Chicken Sandwiches</td>\n      <td>9.95</td>\n      <td>281</td>\n      <td>Drive-thru</td>\n      <td>Gift Card</td>\n      <td>Walter Muller</td>\n      <td>Berlin</td>\n      <td>10711</td>\n      <td>2795.95</td>\n      <td>12</td>\n    </tr>\n    <tr>\n      <th>252</th>\n      <td>10712</td>\n      <td>2022-12-29</td>\n      <td>Fries</td>\n      <td>3.49</td>\n      <td>630</td>\n      <td>Drive-thru</td>\n      <td>Gift Card</td>\n      <td>Walter Muller</td>\n      <td>Berlin</td>\n      <td>10712</td>\n      <td>2198.70</td>\n      <td>12</td>\n    </tr>\n    <tr>\n      <th>253</th>\n      <td>10713</td>\n      <td>2022-12-29</td>\n      <td>Beverages</td>\n      <td>2.95</td>\n      <td>678</td>\n      <td>Drive-thru</td>\n      <td>Gift Card</td>\n      <td>Walter Muller</td>\n      <td>Berlin</td>\n      <td>10713</td>\n      <td>2000.10</td>\n      <td>12</td>\n    </tr>\n  </tbody>\n</table>\n<p>94 rows × 12 columns</p>\n</div>"
          },
          "metadata": {}
        }
      ],
      "execution_count": 136
    },
    {
      "id": "5ab615ff-8475-43a3-bfed-a9708e648170",
      "cell_type": "code",
      "source": "m12.Revenue.sum()",
      "metadata": {
        "trusted": true
      },
      "outputs": [
        {
          "execution_count": 137,
          "output_type": "execute_result",
          "data": {
            "text/plain": "np.float64(300309.16)"
          },
          "metadata": {}
        }
      ],
      "execution_count": 137
    },
    {
      "id": "bea660eb-cd33-48f0-ad8f-2d83e1b5d5e6",
      "cell_type": "code",
      "source": "df.head()",
      "metadata": {
        "trusted": true
      },
      "outputs": [
        {
          "execution_count": 138,
          "output_type": "execute_result",
          "data": {
            "text/plain": "   Order ID       Date             Product  Price  Quantity Purchase Type  \\\n0     10452 2022-07-11               Fries   3.49       573       Online    \n1     10453 2022-07-11           Beverages   2.95       746       Online    \n2     10454 2022-07-11       Sides & Other   4.99       200     In-store    \n3     10455 2022-08-11             Burgers  12.99       570     In-store    \n4     10456 2022-08-11  Chicken Sandwiches   9.95       201     In-store    \n\n  Payment Method           Manager    City  order ID  Revenue  Month  \n0      Gift Card  Tom      Jackson  London     10452  1999.77      7  \n1      Gift Card       Pablo Perez  Madrid     10453  2200.70      7  \n2      Gift Card     Joao    Silva  Lisbon     10454   998.00      7  \n3    Credit Card     Walter Muller  Berlin     10455  7404.30      8  \n4    Credit Card     Walter Muller  Berlin     10456  1999.95      8  ",
            "text/html": "<div>\n<style scoped>\n    .dataframe tbody tr th:only-of-type {\n        vertical-align: middle;\n    }\n\n    .dataframe tbody tr th {\n        vertical-align: top;\n    }\n\n    .dataframe thead th {\n        text-align: right;\n    }\n</style>\n<table border=\"1\" class=\"dataframe\">\n  <thead>\n    <tr style=\"text-align: right;\">\n      <th></th>\n      <th>Order ID</th>\n      <th>Date</th>\n      <th>Product</th>\n      <th>Price</th>\n      <th>Quantity</th>\n      <th>Purchase Type</th>\n      <th>Payment Method</th>\n      <th>Manager</th>\n      <th>City</th>\n      <th>order ID</th>\n      <th>Revenue</th>\n      <th>Month</th>\n    </tr>\n  </thead>\n  <tbody>\n    <tr>\n      <th>0</th>\n      <td>10452</td>\n      <td>2022-07-11</td>\n      <td>Fries</td>\n      <td>3.49</td>\n      <td>573</td>\n      <td>Online</td>\n      <td>Gift Card</td>\n      <td>Tom      Jackson</td>\n      <td>London</td>\n      <td>10452</td>\n      <td>1999.77</td>\n      <td>7</td>\n    </tr>\n    <tr>\n      <th>1</th>\n      <td>10453</td>\n      <td>2022-07-11</td>\n      <td>Beverages</td>\n      <td>2.95</td>\n      <td>746</td>\n      <td>Online</td>\n      <td>Gift Card</td>\n      <td>Pablo Perez</td>\n      <td>Madrid</td>\n      <td>10453</td>\n      <td>2200.70</td>\n      <td>7</td>\n    </tr>\n    <tr>\n      <th>2</th>\n      <td>10454</td>\n      <td>2022-07-11</td>\n      <td>Sides &amp; Other</td>\n      <td>4.99</td>\n      <td>200</td>\n      <td>In-store</td>\n      <td>Gift Card</td>\n      <td>Joao    Silva</td>\n      <td>Lisbon</td>\n      <td>10454</td>\n      <td>998.00</td>\n      <td>7</td>\n    </tr>\n    <tr>\n      <th>3</th>\n      <td>10455</td>\n      <td>2022-08-11</td>\n      <td>Burgers</td>\n      <td>12.99</td>\n      <td>570</td>\n      <td>In-store</td>\n      <td>Credit Card</td>\n      <td>Walter Muller</td>\n      <td>Berlin</td>\n      <td>10455</td>\n      <td>7404.30</td>\n      <td>8</td>\n    </tr>\n    <tr>\n      <th>4</th>\n      <td>10456</td>\n      <td>2022-08-11</td>\n      <td>Chicken Sandwiches</td>\n      <td>9.95</td>\n      <td>201</td>\n      <td>In-store</td>\n      <td>Credit Card</td>\n      <td>Walter Muller</td>\n      <td>Berlin</td>\n      <td>10456</td>\n      <td>1999.95</td>\n      <td>8</td>\n    </tr>\n  </tbody>\n</table>\n</div>"
          },
          "metadata": {}
        }
      ],
      "execution_count": 138
    },
    {
      "id": "a097b25c-a98e-4556-a3af-769dc5169f27",
      "cell_type": "code",
      "source": "df.groupby('Product')[['Quantity', 'Revenue']].agg({'Quantity':'mean', 'Revenue':'mean'})",
      "metadata": {
        "trusted": true
      },
      "outputs": [
        {
          "execution_count": 140,
          "output_type": "execute_result",
          "data": {
            "text/plain": "                      Quantity      Revenue\nProduct                                    \nBeverages           699.760000  2064.292000\nBurgers             558.038462  7248.919615\nChicken Sandwiches  214.096154  2204.085577\nFries               627.901961  2463.266078\nSides & Other       200.000000   998.000000",
            "text/html": "<div>\n<style scoped>\n    .dataframe tbody tr th:only-of-type {\n        vertical-align: middle;\n    }\n\n    .dataframe tbody tr th {\n        vertical-align: top;\n    }\n\n    .dataframe thead th {\n        text-align: right;\n    }\n</style>\n<table border=\"1\" class=\"dataframe\">\n  <thead>\n    <tr style=\"text-align: right;\">\n      <th></th>\n      <th>Quantity</th>\n      <th>Revenue</th>\n    </tr>\n    <tr>\n      <th>Product</th>\n      <th></th>\n      <th></th>\n    </tr>\n  </thead>\n  <tbody>\n    <tr>\n      <th>Beverages</th>\n      <td>699.760000</td>\n      <td>2064.292000</td>\n    </tr>\n    <tr>\n      <th>Burgers</th>\n      <td>558.038462</td>\n      <td>7248.919615</td>\n    </tr>\n    <tr>\n      <th>Chicken Sandwiches</th>\n      <td>214.096154</td>\n      <td>2204.085577</td>\n    </tr>\n    <tr>\n      <th>Fries</th>\n      <td>627.901961</td>\n      <td>2463.266078</td>\n    </tr>\n    <tr>\n      <th>Sides &amp; Other</th>\n      <td>200.000000</td>\n      <td>998.000000</td>\n    </tr>\n  </tbody>\n</table>\n</div>"
          },
          "metadata": {}
        }
      ],
      "execution_count": 140
    },
    {
      "id": "3259fd41-17b1-407a-bdde-b7068f1d9598",
      "cell_type": "code",
      "source": "",
      "metadata": {
        "trusted": true
      },
      "outputs": [],
      "execution_count": null
    }
  ]
}